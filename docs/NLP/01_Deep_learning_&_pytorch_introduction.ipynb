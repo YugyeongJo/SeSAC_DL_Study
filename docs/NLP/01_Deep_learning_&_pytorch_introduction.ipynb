{
  "nbformat": 4,
  "nbformat_minor": 0,
  "metadata": {
    "colab": {
      "provenance": [],
      "collapsed_sections": [
        "3cMM5BWTmTSF",
        "_GXHR4BemnJ1",
        "PWpAlToLo7wq",
        "Z5Mjhn93pEQ7",
        "xN5jjYflr1oE",
        "YCXr7r3Kr__Z",
        "Wo5udXG_t6Jv",
        "ddcrBxNp7LCB"
      ],
      "include_colab_link": true
    },
    "kernelspec": {
      "name": "python3",
      "display_name": "Python 3"
    },
    "language_info": {
      "name": "python"
    }
  },
  "cells": [
    {
      "cell_type": "markdown",
      "metadata": {
        "id": "view-in-github",
        "colab_type": "text"
      },
      "source": [
        "<a href=\"https://colab.research.google.com/github/YugyeongJo/SeSAC_DL_Study/blob/main/docs/01_Deep_learning_%26_pytorch_introduction.ipynb\" target=\"_parent\"><img src=\"https://colab.research.google.com/assets/colab-badge.svg\" alt=\"Open In Colab\"/></a>"
      ]
    },
    {
      "cell_type": "markdown",
      "source": [
        "Pytorch 설치 및 확인\n"
      ],
      "metadata": {
        "id": "7R1ybKJ7JUK7"
      }
    },
    {
      "cell_type": "code",
      "source": [
        "!pip install torch"
      ],
      "metadata": {
        "colab": {
          "base_uri": "https://localhost:8080/"
        },
        "id": "jYC7h8bMATYj",
        "outputId": "db7892ba-4b10-44a2-be56-0dca10950f0e"
      },
      "execution_count": null,
      "outputs": [
        {
          "output_type": "stream",
          "name": "stdout",
          "text": [
            "Requirement already satisfied: torch in /usr/local/lib/python3.10/dist-packages (2.4.1+cu121)\n",
            "Requirement already satisfied: filelock in /usr/local/lib/python3.10/dist-packages (from torch) (3.16.1)\n",
            "Requirement already satisfied: typing-extensions>=4.8.0 in /usr/local/lib/python3.10/dist-packages (from torch) (4.12.2)\n",
            "Requirement already satisfied: sympy in /usr/local/lib/python3.10/dist-packages (from torch) (1.13.3)\n",
            "Requirement already satisfied: networkx in /usr/local/lib/python3.10/dist-packages (from torch) (3.3)\n",
            "Requirement already satisfied: jinja2 in /usr/local/lib/python3.10/dist-packages (from torch) (3.1.4)\n",
            "Requirement already satisfied: fsspec in /usr/local/lib/python3.10/dist-packages (from torch) (2024.6.1)\n",
            "Requirement already satisfied: MarkupSafe>=2.0 in /usr/local/lib/python3.10/dist-packages (from jinja2->torch) (2.1.5)\n",
            "Requirement already satisfied: mpmath<1.4,>=1.1.0 in /usr/local/lib/python3.10/dist-packages (from sympy->torch) (1.3.0)\n"
          ]
        }
      ]
    },
    {
      "cell_type": "code",
      "source": [
        "import torch\n",
        "print(torch.__version__)\n",
        "print(torch.cuda.is_available())"
      ],
      "metadata": {
        "id": "v_C7Xg6KJjm7",
        "colab": {
          "base_uri": "https://localhost:8080/"
        },
        "outputId": "7bcb197b-837b-49a6-8615-89c0bac96832"
      },
      "execution_count": null,
      "outputs": [
        {
          "output_type": "stream",
          "name": "stdout",
          "text": [
            "2.4.1+cu121\n",
            "False\n"
          ]
        }
      ]
    },
    {
      "cell_type": "markdown",
      "source": [
        "## Pytorch Tensor\n",
        "\n",
        "pytorch의 가장 근본이 되는 Tensor들에 대해서 배워보겠습니다.\n",
        "\n",
        "### Tensor 만드는 법\n",
        "\n",
        "\n",
        "torch.tensor(data): data는 튜플, 리스트, numpy 배열 등등임.\n",
        "\n",
        "주요 속성들\n",
        "- dtype: 데이터 타입\n",
        "- device: gpu에 있는지, cpu에 있는지\n",
        "- requires_grad: 이게 True면 미분값을 계산함. 아니면 하지 않음.\n"
      ],
      "metadata": {
        "id": "WAIaC3rWAp3O"
      }
    },
    {
      "cell_type": "code",
      "source": [
        "# 0-D Tensor\n",
        "scalar = torch.tensor(5.0)\n",
        "print(scalar)  # tensor(5.)\n",
        "\n",
        "vector = torch.tensor([1.0, 2.0, 3.0])\n",
        "print(vector)  # tensor([1., 2., 3.])\n",
        "\n",
        "matrix = torch.tensor([[1.0, 2.0], [3.0, 4.0]])\n",
        "print(matrix)\n",
        "# tensor([[1., 2.],\n",
        "#         [3., 4.]])\n",
        "\n",
        "tensor_3d = torch.tensor([[[1.0], [2.0]], [[3.0], [4.0]]])\n",
        "print(tensor_3d)\n",
        "# tensor([[[1.],\n",
        "#          [2.]],\n",
        "#\n",
        "#         [[3.],\n",
        "#          [4.]]])"
      ],
      "metadata": {
        "colab": {
          "base_uri": "https://localhost:8080/"
        },
        "id": "wnOILb3NGJrx",
        "outputId": "a7382713-8c0b-438f-f29f-581c069d2d92"
      },
      "execution_count": null,
      "outputs": [
        {
          "output_type": "stream",
          "name": "stdout",
          "text": [
            "tensor(5.)\n",
            "tensor([1., 2., 3.])\n",
            "tensor([[1., 2.],\n",
            "        [3., 4.]])\n",
            "tensor([[[1.],\n",
            "         [2.]],\n",
            "\n",
            "        [[3.],\n",
            "         [4.]]])\n"
          ]
        }
      ]
    },
    {
      "cell_type": "code",
      "source": [
        "## My Code\n",
        "\n",
        "# 0차원 = scalar\n",
        "number = torch.tensor(1.0)\n",
        "print(\"number : \", number)\n",
        "\n",
        "# 1차원 = vector\n",
        "lst_vector = torch.tensor([1, 2, 3])\n",
        "tuple_vector = torch.tensor((1, 2, 3))\n",
        "print(\"lst_vector : \", lst_vector)\n",
        "print(\"tuple_vector : \", tuple_vector)\n",
        "\n",
        "# 2차원 = matrix\n",
        "matrix_2d = torch.tensor([[1, 2, 3], [3, 4, 5]])\n",
        "print(\"matrix_2d size : \", matrix_2d.shape)\n",
        "\n",
        "# 3차원 = matrix\n",
        "matrix_2 = [[1, 2, 3], [3, 4, 5]]\n",
        "lst = [matrix_2, matrix_2, matrix_2]\n",
        "matrix_2_3d = torch.tensor(lst)\n",
        "print(\"matrix_2_3d size : \", matrix_2_3d.shape)\n",
        "\n",
        "### 차원 = list of list of list ...의 list 갯수\n",
        "### shape = 원소의 갯수"
      ],
      "metadata": {
        "colab": {
          "base_uri": "https://localhost:8080/"
        },
        "id": "1qWsUbYnoShP",
        "outputId": "6aa69e42-a0e9-4b8e-c9fb-7b06335ceb9a"
      },
      "execution_count": null,
      "outputs": [
        {
          "output_type": "stream",
          "name": "stdout",
          "text": [
            "number :  tensor(1.)\n",
            "lst_vector :  tensor([1, 2, 3])\n",
            "tuple_vector :  tensor([1, 2, 3])\n",
            "matrix_2d size :  torch.Size([2, 3])\n",
            "matrix_2_3d size :  torch.Size([3, 2, 3])\n"
          ]
        }
      ]
    },
    {
      "cell_type": "markdown",
      "source": [
        "### torch.tensor의 주요 속성들\n",
        "\n",
        "- tensor.shape\n",
        "- tensor.size()\n",
        "- tensor.dtype"
      ],
      "metadata": {
        "id": "3cMM5BWTmTSF"
      }
    },
    {
      "cell_type": "code",
      "source": [
        "print(vector.shape)    # torch.Size([3])\n",
        "print(matrix.size())   # torch.Size([2, 2])\n",
        "print(tensor_3d.shape) # torch.Size([2, 2, 1])"
      ],
      "metadata": {
        "colab": {
          "base_uri": "https://localhost:8080/"
        },
        "id": "LJg4nrPAMt7t",
        "outputId": "6bf6f169-c90a-4c8b-b03a-4556fed725bc"
      },
      "execution_count": null,
      "outputs": [
        {
          "output_type": "stream",
          "name": "stdout",
          "text": [
            "torch.Size([3])\n",
            "torch.Size([2, 2])\n",
            "torch.Size([2, 2, 1])\n"
          ]
        }
      ]
    },
    {
      "cell_type": "code",
      "source": [
        "print(vector.dtype)    # torch.float32\n",
        "int_tensor = torch.tensor([1, 2, 3], dtype=torch.int32)\n",
        "print(int_tensor.dtype)  # torch.int32\n",
        "\n",
        "device = torch.device(\"cuda\" if torch.cuda.is_available() else \"cpu\")\n",
        "tensor_gpu = torch.tensor([1.0, 2.0, 3.0]).to(device)\n",
        "print(tensor_gpu.device)  # cuda:0 or cpu\n",
        "\n",
        "## GPU간의 옮기고, CPU간의 옮기는 거 시간 오래 걸림\n",
        "## 연산은 같은 곳에 있어야 가능"
      ],
      "metadata": {
        "colab": {
          "base_uri": "https://localhost:8080/"
        },
        "id": "BrqNxnpxMwE3",
        "outputId": "fb20b6d8-e0fe-4522-b259-9f6b176c3778"
      },
      "execution_count": null,
      "outputs": [
        {
          "output_type": "stream",
          "name": "stdout",
          "text": [
            "torch.float32\n",
            "torch.int32\n",
            "cpu\n"
          ]
        }
      ]
    },
    {
      "cell_type": "markdown",
      "source": [
        "### torch.tensor 만드는 방법\n",
        "\n",
        "- torch.tensor(data)\n",
        "- 자주 쓰는 텐서들은 만드는 함수가 있음.\n",
        "  * torch.zeros(size): size 형태로 된, 0으로 된 텐서를 만듬.\n",
        "  * torch.ones(size): size 형태로 된, 1로 된 텐서를 만듬.\n",
        "  * torch.rand(size) / torch.randn(size) : 랜덤한 숫자로 된 텐서를 만듬. rand는 0과 1 사이에서 랜덤하게, randn은 표준정규분포(평균 0, 표준편차 1)에서 뽑아옴.\n",
        "  * torch.eye(n): 대각선만 1이고 이외에는 0인 2D 텐서(행렬)을 만듬.\n",
        "- 이외에도 많이 쓰이는 함수들\n",
        "  * torch.arange: range() 함수와 매우 비슷하다.\n",
        "  * torch.linspace(start, end, steps): start부터, end까지, steps개의 숫자를 가지는 텐서를 만듬. 이 때, 숫자들은 등간격으로 만들어짐.\n"
      ],
      "metadata": {
        "id": "_GXHR4BemnJ1"
      }
    },
    {
      "cell_type": "code",
      "source": [
        "list_tensor = torch.tensor([1, 2, 3])\n",
        "tuple_tensor = torch.tensor((4, 5, 6))\n",
        "\n",
        "zeros = torch.zeros((2, 3))\n",
        "ones = torch.ones((2, 3))\n",
        "rand = torch.rand((2, 3))\n",
        "eye = torch.eye(3)  # 3x3 Identity matrix\n",
        "\n",
        "normal = torch.randn((2, 3))  # Normal distribution\n",
        "\n",
        "arange_tensor = torch.arange(start=0, end=10, step=2)\n",
        "linspace_tensor = torch.linspace(start=0, end=1, steps=5)\n",
        "\n",
        "float_tensor = torch.tensor([1.0, 2.0, 3.0], dtype=torch.float64)\n",
        "int_tensor = torch.tensor([1, 2, 3], dtype=torch.int32)\n"
      ],
      "metadata": {
        "id": "HuUTrq-ekUmh"
      },
      "execution_count": null,
      "outputs": []
    },
    {
      "cell_type": "code",
      "source": [
        "## My Code\n",
        "\n",
        "zeros = torch.zeros((2, 3))\n",
        "ones = torch.ones((2, 3))\n",
        "rand = torch.rand((2, 3))\n",
        "eye = torch.eye(3)\n",
        "print(zeros)\n",
        "print(ones)\n",
        "print(rand)\n",
        "print(eye)\n",
        "\n",
        "arange_tensor = torch.arange(start=0, end=10, step=2)\n",
        "linspace_tensor = torch.linspace(start=0, end=1, steps=5)\n",
        "print(arange_tensor)\n",
        "print(linspace_tensor)"
      ],
      "metadata": {
        "colab": {
          "base_uri": "https://localhost:8080/"
        },
        "id": "tqo0bxoCwuN7",
        "outputId": "6bfcea74-43e0-4390-e0a9-7dfd7da36e9e"
      },
      "execution_count": null,
      "outputs": [
        {
          "output_type": "stream",
          "name": "stdout",
          "text": [
            "tensor([[0., 0., 0.],\n",
            "        [0., 0., 0.]])\n",
            "tensor([[1., 1., 1.],\n",
            "        [1., 1., 1.]])\n",
            "tensor([[0.7740, 0.4050, 0.8791],\n",
            "        [0.6141, 0.4227, 0.2112]])\n",
            "tensor([[1., 0., 0.],\n",
            "        [0., 1., 0.],\n",
            "        [0., 0., 1.]])\n",
            "tensor([0, 2, 4, 6, 8])\n",
            "tensor([0.0000, 0.2500, 0.5000, 0.7500, 1.0000])\n"
          ]
        }
      ]
    },
    {
      "cell_type": "markdown",
      "source": [
        "TODO: 위 각 함수들을 torch.tensor와 파이썬 리스트 operation들을 이용하여 재구현해 보세요."
      ],
      "metadata": {
        "id": "k6Pf1-B3vOVS"
      }
    },
    {
      "cell_type": "code",
      "source": [
        "# write your code here\n",
        "\n",
        "def torch_zeros(*size):\n",
        "  if isinstance(size[0], (tuple, list)):\n",
        "    size = size[0]\n",
        "\n",
        "  elif isinstance(size[0], int):\n",
        "    for x in size:\n",
        "      if not isinstance(x, int):\n",
        "        raise ValueError(\"only input int type\")\n",
        "    size = tuple(size)\n",
        "\n",
        "  def create_zeros(dimensions):\n",
        "    if len(dimensions) == 1:\n",
        "      return [0 for _ in range(dimensions[0])]\n",
        "    else:\n",
        "      return [create_zeros(dimensions[1:]) for _ in range(dimensions[0])]\n",
        "\n",
        "  res = create_zeros(size)\n",
        "\n",
        "  return torch.tensor(res)\n",
        "\n",
        "# answer = torch_zeros(2, 5, 3)\n",
        "# print(answer)\n",
        "\n",
        "def torch_ones(*size):\n",
        "  if isinstance(size[0], (tuple, list)):\n",
        "    size = size[0]\n",
        "\n",
        "  elif isinstance(size[0], int):\n",
        "    for x in size:\n",
        "      if not isinstance(x, int):\n",
        "        raise ValueError(\"only input int type\")\n",
        "    size = tuple(size)\n",
        "\n",
        "  def create_zeros(dimensions):\n",
        "    if len(dimensions) == 1:\n",
        "      return [1 for _ in range(dimensions[0])]\n",
        "    else:\n",
        "      return [create_zeros(dimensions[1:]) for _ in range(dimensions[0])]\n",
        "\n",
        "  res = create_zeros(size)\n",
        "\n",
        "  return torch.tensor(res)\n",
        "\n",
        "answer = torch_ones(2, 5, 3)\n",
        "print(answer)\n",
        "\n",
        "def torch_rand():\n",
        "  return ''\n",
        "\n",
        "def torch_eye():\n",
        "  return ''\n",
        "\n",
        "def torch_arange():\n",
        "  return ''\n",
        "\n",
        "def torch_linspace():\n",
        "  return ''"
      ],
      "metadata": {
        "id": "mUiK8UuXpHfE",
        "colab": {
          "base_uri": "https://localhost:8080/"
        },
        "outputId": "de1e5055-75a9-478b-81b8-9f66c115d2e5"
      },
      "execution_count": null,
      "outputs": [
        {
          "output_type": "stream",
          "name": "stdout",
          "text": [
            "tensor([[[1, 1, 1],\n",
            "         [1, 1, 1],\n",
            "         [1, 1, 1],\n",
            "         [1, 1, 1],\n",
            "         [1, 1, 1]],\n",
            "\n",
            "        [[1, 1, 1],\n",
            "         [1, 1, 1],\n",
            "         [1, 1, 1],\n",
            "         [1, 1, 1],\n",
            "         [1, 1, 1]]])\n"
          ]
        }
      ]
    },
    {
      "cell_type": "code",
      "source": [
        "# Solution\n",
        "import torch\n",
        "import random\n",
        "\n",
        "def nested_list(shape, value = 0):\n",
        "  \"\"\"Accepts tuple/list of int, denoting shape of the nested list.\n",
        "  \"\"\"\n",
        "  if len(shape) == 1:\n",
        "    I = shape[0]\n",
        "    return [value for _ in range(I)]\n",
        "  else:\n",
        "    I = shape[0]\n",
        "    return [nested_list(shape[1:], value = value) for _ in range(I)]\n",
        "\n",
        "def random_nested_list(shape):\n",
        "  \"\"\"Accepts tuple/list of int, denoting shape of the nested list.\n",
        "  \"\"\"\n",
        "  if len(shape) == 1:\n",
        "    I = shape[0]\n",
        "    return [random.random() for _ in range(I)]\n",
        "  else:\n",
        "    I = shape[0]\n",
        "    return [random_nested_list(shape[1:]) for _ in range(I)]\n",
        "\n",
        "def randomn_nested_list(shape):\n",
        "  \"\"\"Accepts tuple/list of int, denoting shape of the nested list.\n",
        "  \"\"\"\n",
        "  if len(shape) == 1:\n",
        "    I = shape[0]\n",
        "    return [random.gauss(0, 1) for _ in range(I)]\n",
        "  else:\n",
        "    I = shape[0]\n",
        "    return [randomn_nested_list(shape[1:]) for _ in range(I)]\n",
        "\n",
        "def zeros(shape):\n",
        "  return torch.tensor(nested_list(shape, value = 0))\n",
        "\n",
        "def ones(shape):\n",
        "  return torch.tensor(nested_list(shape, value = 1))\n",
        "\n",
        "def rand(shape):\n",
        "  return torch.tensor(random_nested_list(shape))\n",
        "\n",
        "def randn(shape):\n",
        "  return torch.tensor(randomn_nested_list(shape))\n",
        "\n",
        "print(nested_list((2, 3, 4), value = 0))\n",
        "print(zeros((1, 2, 3)))\n",
        "print(ones((1, 2, 3)))\n",
        "print(rand((1, 2, 3)))\n",
        "print(randn((1, 2, 3)))\n",
        "\n",
        "def eyes(n):\n",
        "  lst = [[0 for i in range(n)] for j in range(n)]\n",
        "\n",
        "  for i in range(n):\n",
        "    lst[i][i] - 1\n",
        "\n",
        "  return torch.tensor(lst)\n",
        "\n",
        "print(eyes(4))"
      ],
      "metadata": {
        "colab": {
          "base_uri": "https://localhost:8080/"
        },
        "id": "t6wk6p0f-pM-",
        "outputId": "6fe4e8cf-4ba0-440a-b6af-fdd4d57a5957"
      },
      "execution_count": null,
      "outputs": [
        {
          "output_type": "stream",
          "name": "stdout",
          "text": [
            "[[[0, 0, 0, 0], [0, 0, 0, 0], [0, 0, 0, 0]], [[0, 0, 0, 0], [0, 0, 0, 0], [0, 0, 0, 0]]]\n",
            "tensor([[[0, 0, 0],\n",
            "         [0, 0, 0]]])\n",
            "tensor([[[1, 1, 1],\n",
            "         [1, 1, 1]]])\n",
            "tensor([[[0.9903, 0.8183, 0.6422],\n",
            "         [0.4374, 0.0543, 0.2867]]])\n",
            "tensor([[[-0.6926,  2.0347, -0.8590],\n",
            "         [-1.0517,  0.6076, -1.4521]]])\n",
            "tensor([[0, 0, 0, 0],\n",
            "        [0, 0, 0, 0],\n",
            "        [0, 0, 0, 0],\n",
            "        [0, 0, 0, 0]])\n"
          ]
        }
      ]
    },
    {
      "cell_type": "markdown",
      "source": [
        "### torch.tensor끼리의 연산\n",
        "\n",
        "일반적인 사칙연산, 행렬 곱(matmul), 원소간 곱 등등이 다 적용됨."
      ],
      "metadata": {
        "id": "PWpAlToLo7wq"
      }
    },
    {
      "cell_type": "code",
      "source": [
        "a = torch.tensor([1.0, 2.0, 3.0])\n",
        "b = torch.tensor([4.0, 5.0, 6.0])\n",
        "\n",
        "add = a + b  # tensor([5., 7., 9.])\n",
        "sub = a - b  # tensor([-3., -3., -3.])\n",
        "\n",
        "mul = a * b  # tensor([ 4., 10., 18.])\n",
        "div = b / a  # tensor([4.0000, 2.5000, 2.0000])\n",
        "\n",
        "exp = a ** 2  # tensor([1., 4., 9.])"
      ],
      "metadata": {
        "id": "JsvDLKcKkd2e"
      },
      "execution_count": null,
      "outputs": []
    },
    {
      "cell_type": "code",
      "source": [
        "matrix_a = torch.tensor([[1, 2], [3, 4]])\n",
        "matrix_b = torch.tensor([[5, 6], [7, 8]])\n",
        "\n",
        "matmul = torch.matmul(matrix_a, matrix_b)\n",
        "# tensor([[19, 22],\n",
        "#         [43, 50]])\n",
        "\n",
        "elem_mul = matrix_a * matrix_b\n",
        "# tensor([[ 5, 12],\n",
        "#         [21, 32]])\n",
        "\n",
        "transposed = torch.transpose(matrix_a, 0, 1)\n",
        "# tensor([[1, 3],\n",
        "#         [2, 4]])\n",
        "\n",
        "print(torch.matmul(torch.tensor([[1], [2], [3]]), torch.tensor([[4, 5, 6]])))\n"
      ],
      "metadata": {
        "id": "eAa8J66qkjhp",
        "colab": {
          "base_uri": "https://localhost:8080/"
        },
        "outputId": "8dd2ff27-5112-4850-df3d-eca63f19217f"
      },
      "execution_count": null,
      "outputs": [
        {
          "output_type": "stream",
          "name": "stdout",
          "text": [
            "tensor([[ 4,  5,  6],\n",
            "        [ 8, 10, 12],\n",
            "        [12, 15, 18]])\n"
          ]
        }
      ]
    },
    {
      "cell_type": "markdown",
      "source": [
        "### Broadcasting\n",
        "\n",
        "브로드캐스팅은 서로 다른 크기를 가진 텐서들 간에 연산을 수행할 때, 자동으로 크기를 맞춰주는 PyTorch(및 NumPy)의 기능입니다. 이 기능은 명시적으로 텐서의 크기를 변환하지 않아도, 작은 크기의 텐서를 큰 크기의 텐서와 함께 연산할 수 있도록 해줍니다. Pandas나 Numpy 등에서도 자주 활용되기 때문에 알아두면 좋습니다.\n",
        "\n",
        "브로드캐스팅 규칙:\n",
        "1. 차원의 맞추기: 두 텐서의 차원(Dimension) 수가 다를 때, 차원이 작은 텐서의 앞쪽에 1을 추가하여 차원을 맞춥니다.\n",
        "2. 크기 맞추기: 각 차원에서 크기가 1인 텐서는 해당 차원의 크기를 큰 텐서의 크기에 맞춰 늘릴 수 있습니다.\n",
        "3. 불가능한 경우: 두 텐서가 특정 차원에서 서로 다른 크기를 가지며, 그중 하나가 1이 아니면 브로드캐스팅이 불가능하고 오류가 발생합니다.\n",
        "\n",
        "예를 들어서,\n",
        "\n",
        "- (2,3) 크기의 텐서에 (3,) 크기의 텐서를 더하면, (2,3) 크기의 텐서가 됩니다. 이 때 (3,) 크기의 텐서들은 첫 번째 차원에 대해서 다 더해집니다.\n"
      ],
      "metadata": {
        "id": "Z5Mjhn93pEQ7"
      }
    },
    {
      "cell_type": "code",
      "source": [
        "a = [[1,2,3],[4,5,6],]\n",
        "\n",
        "b = [[1,2,3,],[4,5,6,],[7,8,9,],[10, 11, 12]]\n",
        "\n",
        "a = torch.tensor([[1, 2, 3], [4, 5, 6]])  # Shape: (2, 3)\n",
        "b = torch.tensor([1, 2, 3])              # Shape: (4, 3,)\n",
        "\n",
        "broadcast_add = a + b  # Shape: (2, 3)\n",
        "# tensor([[2, 4, 6],\n",
        "#         [5, 7, 9]])\n",
        "\n",
        "a = torch.tensor([[1], [2], [3]])  # Shape: (3, 1)\n",
        "b = torch.tensor([4, 5, 6])        # Shape: (3,)\n",
        "\n",
        "# To make shapes compatible:\n",
        "# a: (3, 1) -> (3, 3)\n",
        "# b: (3,)   -> (1, 3) -> (3, 3)\n",
        "\n",
        "broadcast_mul = a * b  # Shape: (3, 3)\n",
        "# tensor([[ 4,  5,  6],\n",
        "#         [ 8, 10, 12],\n",
        "#         [12, 15, 18]])"
      ],
      "metadata": {
        "id": "VolcxkK_krYh"
      },
      "execution_count": null,
      "outputs": []
    },
    {
      "cell_type": "code",
      "source": [
        "## My Code\n",
        "\n",
        "a = torch.tensor([[1], [2], [3]])\n",
        "b = torch.tensor([4, 5, 6])\n",
        "# a = torch.tensor([[1, 1, 1], [2, 2, 2], [3, 3, 3]])\n",
        "# b = torch.tensor([[4, 5, 6], [4, 5, 6], [4, 5, 6]])"
      ],
      "metadata": {
        "id": "bJEiDuK7PmtN"
      },
      "execution_count": null,
      "outputs": []
    },
    {
      "cell_type": "markdown",
      "source": [
        "#### quest 1\n",
        "1. l = list of list of .... 를 받아서, 하는 함수 get_shape를 작성하세요.\n",
        "  - 여기서 torch.tensor(l).shape 과 같은 값을 가지는 리스트를 반환\n",
        "  - 만약 torch.tensor가 불가능하다면 False를 리턴\n",
        "\n",
        "2. l = list of list of ..., r = list of list of ... 두 input을 받아서, 아래와 같이 동작하는 함수 broadcasting을 작성하세요\n",
        "  - 브로드캐스팅이 될 때 각 l, r이 바뀌어야 하는 형태를 리턴\n",
        "  - 브로드캐스팅이 되지 않으면 False를 리턴"
      ],
      "metadata": {
        "id": "0vGBwoLtjsJV"
      }
    },
    {
      "cell_type": "code",
      "source": [
        "# 1번\n",
        "l = [[1, 2, 3], [4, 5, 6], [7, 8, 9]]\n",
        "r = [[[1], [2], [3]], [[4], [5], [6]], [[7], [8], [9]]]\n",
        "h = [[1, 2, 3], [4, 5]]\n",
        "# print(torch.tensor(r).shape)\n",
        "# print(torch.tensor([1, 2, 3]).shape)\n",
        "print(torch.tensor(l).shape)\n",
        "print(torch.tensor(r).shape)\n",
        "# print(torch.tensor(h).shape)\n",
        "\n",
        "def get_shape(l):\n",
        "  shape = []\n",
        "\n",
        "  shape.append(len(l))\n",
        "\n",
        "  while isinstance(l[0], list):\n",
        "    for elem in l:\n",
        "      if len(elem) != len(l[0]):\n",
        "        return False\n",
        "\n",
        "    l = l[0]\n",
        "    shape.append(len(l))\n",
        "\n",
        "  return shape\n",
        "\n",
        "print(get_shape(l))\n",
        "print(get_shape(r))\n",
        "print(get_shape(h))"
      ],
      "metadata": {
        "colab": {
          "base_uri": "https://localhost:8080/"
        },
        "id": "9trXLmsOjrTe",
        "outputId": "d2da1053-f7b7-4856-c6bd-7bb573092aaf"
      },
      "execution_count": null,
      "outputs": [
        {
          "output_type": "stream",
          "name": "stdout",
          "text": [
            "torch.Size([3, 3])\n",
            "torch.Size([3, 3, 1])\n",
            "[3, 3]\n",
            "[3, 3, 1]\n",
            "False\n"
          ]
        }
      ]
    },
    {
      "cell_type": "code",
      "source": [
        "# 2번\n",
        "def broadcasting_check(l, r):\n",
        "  shape_l = get_shape(l)\n",
        "  shape_r = get_shape(r)\n",
        "\n",
        "  if shape_l == False or shape_r == False:\n",
        "      return False\n",
        "\n",
        "  while len(shape_l) < len(shape_r):\n",
        "    shape_l.insert(0, 1)\n",
        "  while len(shape_r) < len(shape_l):\n",
        "    shape_r.insert(0, 1)\n",
        "\n",
        "  for dim_l, dim_r in zip(shape_l, shape_r):\n",
        "    if dim_l != dim_r and dim_l != 1 and dim_r != 1:\n",
        "      return False\n",
        "\n",
        "\n",
        "\n",
        "l = [[1, 2, 3], [4, 5, 6], [7, 8, 9]]\n",
        "r = [[[1], [2], [3]], [[4], [5], [6]], [[7], [8], [9]]]\n",
        "\n",
        "\n"
      ],
      "metadata": {
        "id": "10_su9uJwVhY"
      },
      "execution_count": null,
      "outputs": []
    },
    {
      "cell_type": "code",
      "source": [
        "### Solution\n",
        "def get_shape(lst):\n",
        "    res = []\n",
        "    cur = lst\n",
        "\n",
        "    while isinstance(cur, list):\n",
        "        res.append(len(cur))\n",
        "        cur = cur[0]\n",
        "\n",
        "    return res\n",
        "\n",
        "def get_shape(lst):\n",
        "    if not isinstance(lst, list):\n",
        "        return []\n",
        "    else:\n",
        "        shapes = []\n",
        "        for elem in lst:\n",
        "            shape = get_shape(elem)\n",
        "            if shape not in shapes:\n",
        "                shapes.append(shape)\n",
        "        if len(shapes) == 1:\n",
        "            return [len(lst)] + get_shape(lst[0])\n",
        "        else:\n",
        "            return False\n",
        "\n",
        "def fill(l, r):\n",
        "    \"\"\"If len(l) > len(r), fill 1 to r's front, so that len(l) == len(r),\n",
        "    If len(r) < len(l), do the opposite.\n",
        "    \"\"\"\n",
        "    if len(l) > len(r):\n",
        "        diff = len(l) - len(r)\n",
        "        r = [1 for _ in range(diff)] + r\n",
        "        return l, r\n",
        "    elif len(l) < len(r):\n",
        "        diff = len(r) - len(l)\n",
        "        l = [1 for _ in range(diff)] + l\n",
        "        return l, r\n",
        "    return l, r\n",
        "\n",
        "def expand_dimension(l, dim_idx, r_s):\n",
        "    \"\"\"\n",
        "    l = [[1,2,3,]] (shape 1, 3)\n",
        "    dim_idx = 0\n",
        "    r_s = 4\n",
        "    expand_dimension(l, 0, 4)\n",
        "    >> [[1,2,3,], [1,2,3,], [1,2,3,], [1,2,3,]]\n",
        "\n",
        "    l = [[[1,2,3]], [[1,2,3]], [[1,2,3]]] (shape 3, 1, 3 -> 3, 2, 3)\n",
        "    l[0] = [[1,2,3]], l[1], l[2] (shape 2, 3)\n",
        "    dim_idx = 1\n",
        "    r_s = 2\n",
        "    expand_dimension(l, 0, 2)\n",
        "    >> [[[1,2,3], [1,2,3]], [[1,2,3], [1,2,3]], [[1,2,3], [1,2,3]]] (shape 3, 2, 3)\n",
        "\n",
        "    l / shape 4, 3, 2, 1, 2 -> 4, 3, 2, 5, 2\n",
        "    expand_dimension(l, 3, 5)\n",
        "    l[0], l[1], l[2], l[3] / shape 3, 2, 1, 2 -> 3, 2, 5, 2\n",
        "    expand_dimension(l[0], 2, 5)\n",
        "    expand_dimension(l[1], 2, 5)\n",
        "    expand_dimension(l[2], 2, 5)\n",
        "    expand_dimension(l[3], 2, 5)\n",
        "    \"\"\"\n",
        "    assert get_shape(l)[dim_idx] == 1, (get_shape(l), dim_idx)\n",
        "\n",
        "    if dim_idx == 0:\n",
        "        return [l[0] for _ in range(r_s)]\n",
        "    else:\n",
        "        return [expand_dimension(e, dim_idx - 1, r_s) for e in l]\n",
        "\n",
        "\n",
        "def broadcasting(l, r):\n",
        "    shape_l = get_shape(l)\n",
        "    shape_r = get_shape(r)\n",
        "\n",
        "    assert shape_l and shape_r\n",
        "\n",
        "    # 차원의 맞추기: 두 텐서의 차원(Dimension) 수가 다를 때,\n",
        "    # 차원이 작은 텐서의 앞쪽에 1을 추가하여 차원을 맞춥니다.\n",
        "\n",
        "    # (2, 3) / (4, 5, 2, 3) -> (1, 1, 2, 3) / (4, 5, 2, 3)\n",
        "\n",
        "    l_is_bigger = False\n",
        "    r_is_bigger = False\n",
        "    diff = abs(len(shape_l) - len(shape_r))\n",
        "\n",
        "    if len(shape_l) > len(shape_r):\n",
        "        l_is_bigger = True\n",
        "    elif len(shape_l) < len(shape_r):\n",
        "        r_is_bigger = True\n",
        "\n",
        "    shape_l, shape_r = fill(shape_l, shape_r)\n",
        "\n",
        "    for _ in range(diff):\n",
        "        if l_is_bigger:\n",
        "            r = [r]  # r.shape: a1, a2, ... , an / [r].shape : 1, a1, a2, ... , an\n",
        "        elif r_is_bigger:\n",
        "            l = [l]\n",
        "\n",
        "    assert shape_l == get_shape(l)\n",
        "    assert shape_r == get_shape(r)\n",
        "\n",
        "    # 크기 맞추기: 각 차원에서 크기가 1인 텐서는\n",
        "    # 해당 차원의 크기를 큰 텐서의 크기에 맞춰 늘릴 수 있습니다.\n",
        "\n",
        "    dim_idx = 0\n",
        "\n",
        "    for l_s, r_s in zip(shape_l, shape_r):\n",
        "        if l_s != r_s:\n",
        "            if min(l_s, r_s) == 1:\n",
        "                if l_s == 1: #\n",
        "                    l = expand_dimension(l, dim_idx, r_s)\n",
        "                else: # r_s == 1\n",
        "                    r = expand_dimension(r, dim_idx, l_s)\n",
        "            else:\n",
        "                return False\n",
        "        dim_idx += 1\n",
        "\n",
        "    return l, r\n",
        "\n",
        "l = [[[1,2,3]], [[1,2,3]], [[1,2,3]]]\n",
        "print(get_shape(l))\n",
        "\n",
        "r = [[1,2,3,], [1,2,3,], [1,2,3,], [1,2,3,]]\n",
        "print(get_shape(r))\n",
        "\n",
        "# 3 1 3 / 4 3 -> 3 1 3 / 1 4 3 -> 3 1 3 / 3 4 3 -> 3 4 3 / 3 4 3\n",
        "# r = [[[1,2,3,], [1,2,3,], [1,2,3,], [1,2,3,]]]\n",
        "r_ans = [[\n",
        "            [1,2,3,],\n",
        "            [1,2,3,],\n",
        "            [1,2,3,],\n",
        "            [1,2,3,]\n",
        "          ],\n",
        "         [[1,2,3,], [1,2,3,], [1,2,3,], [1,2,3,]],\n",
        "         [[1,2,3,], [1,2,3,], [1,2,3,], [1,2,3,]]]\n",
        "l_ans = [[[1,2,3], [1,2,3], [1,2,3], [1,2,3]],\n",
        "         [[1,2,3], [1,2,3], [1,2,3], [1,2,3]],\n",
        "         [[1,2,3], [1,2,3], [1,2,3], [1,2,3]]]\n",
        "l, r = broadcasting(l, r)\n",
        "print(get_shape(l), get_shape(r))\n",
        "print(l_ans == l, r_ans == r)"
      ],
      "metadata": {
        "id": "g5oSBjasD6rH"
      },
      "execution_count": null,
      "outputs": []
    },
    {
      "cell_type": "markdown",
      "source": [
        "### 이 외 tensor operation들\n",
        "\n",
        "- Slicing / Indexing\n",
        "- Reshaping\n",
        "- Concatenation / Stacking"
      ],
      "metadata": {
        "id": "xN5jjYflr1oE"
      }
    },
    {
      "cell_type": "code",
      "source": [
        "# slicing / indexing\n",
        "tensor = torch.tensor([[1, 2, 3], [4, 5, 6], [7, 8, 9]])\n",
        "\n",
        "# Basic indexing\n",
        "element = tensor[1, 2]  # tensor(6)\n",
        "\n",
        "# Slicing\n",
        "sub_tensor = tensor[:, 1:]  # tensor([[2, 3],\n",
        "                            #         [5, 6],\n",
        "                            #         [8, 9]])\n",
        "\n",
        "# Advanced indexing with masks\n",
        "mask = tensor > 5\n",
        "filtered = tensor[mask]  # tensor([6, 7, 8, 9])"
      ],
      "metadata": {
        "id": "Jz0GLy02kt-Y"
      },
      "execution_count": null,
      "outputs": []
    },
    {
      "cell_type": "code",
      "source": [
        "# reshaping\n",
        "\n",
        "tensor = torch.arange(0, 12)\n",
        "reshaped_view = tensor.view(3, 4)  # tensor([[ 0,  1,  2,  3],\n",
        "                                   #         [ 4,  5,  6,  7],\n",
        "                                   #         [ 8,  9, 10, 11]])\n",
        "\n",
        "reshaped_reshape = tensor.reshape(2, 6)  # tensor([[ 0,  1,  2,  3,  4,  5],\n",
        "                                         #         [ 6,  7,  8,  9, 10, 11]])\n",
        "\n",
        "# tensor.permute\n",
        "tensor = torch.randn(2, 3, 4)\n",
        "permuted = tensor.permute(2, 0, 1)  # Changes the order of dimensions\n",
        "print(permuted.shape)  # torch.Size([4, 2, 3])\n"
      ],
      "metadata": {
        "id": "UiCkGFvjsnBq",
        "colab": {
          "base_uri": "https://localhost:8080/"
        },
        "outputId": "d2038ba7-16dd-4fd3-ef7b-c48e4e92cd1d"
      },
      "execution_count": null,
      "outputs": [
        {
          "output_type": "stream",
          "name": "stdout",
          "text": [
            "torch.Size([4, 2, 3])\n"
          ]
        }
      ]
    },
    {
      "cell_type": "code",
      "source": [
        "a = torch.tensor([1, 2, 3])\n",
        "b = torch.tensor([4, 5, 6])\n",
        "\n",
        "# Concatenate along existing dimension\n",
        "concat = torch.cat((a, b), dim=0)  # tensor([1, 2, 3, 4, 5, 6])\n",
        "\n",
        "# Stack along a new dimension\n",
        "stack = torch.stack((a, b), dim=0)\n",
        "# tensor([[1, 2, 3],\n",
        "#         [4, 5, 6]])\n"
      ],
      "metadata": {
        "id": "VIHxbxPTs4Yx"
      },
      "execution_count": null,
      "outputs": []
    },
    {
      "cell_type": "markdown",
      "source": [
        "### 수학적 함수들\n",
        "\n",
        "- abs, sqrt, exp, log 등 unary 함수들 (텐서 하나만을 input으로 받음): torch.abs, torch.sqrt, torch.exp, torch.log\n",
        "- max, min 등 binary 함수들 (텐서 2개를 input으로 받음): torch.max, torch.min\n",
        "- 차원을 하나 혹은 여럿 낮추는 Reduction Operation들: torch.sum(tensor, dim = n)\n"
      ],
      "metadata": {
        "id": "YCXr7r3Kr__Z"
      }
    },
    {
      "cell_type": "code",
      "source": [
        "a = torch.tensor([-1.0, -2.0, 3.0])\n",
        "\n",
        "abs_a = torch.abs(a)          # tensor([1., 2., 3.])\n",
        "sqrt_a = torch.sqrt(torch.abs(a))  # tensor([1., 1.4142, 1.7321])\n",
        "exp_a = torch.exp(a)          # tensor([0.3679, 0.1353, 20.0855])\n",
        "# 자연상수\n",
        "log_a = torch.log(torch.abs(a))    # tensor([0.0000, 0.6931, 1.0986])\n"
      ],
      "metadata": {
        "id": "UsFdYgJws8kL"
      },
      "execution_count": null,
      "outputs": []
    },
    {
      "cell_type": "code",
      "source": [
        "a = torch.tensor([1.0, 2.0, 3.0])\n",
        "b = torch.tensor([4.0, 5.0, 6.0])\n",
        "\n",
        "max_ab = torch.max(a, b)  # tensor([4., 5., 6.])\n",
        "min_ab = torch.min(a, b)  # tensor([1., 2., 3.])\n"
      ],
      "metadata": {
        "id": "EYIgfoa7s-gX"
      },
      "execution_count": null,
      "outputs": []
    },
    {
      "cell_type": "code",
      "source": [
        "tensor = torch.tensor([[1, 2], [3, 4]])\n",
        "\n",
        "sum_all = torch.sum(tensor)          # tensor(10)\n",
        "sum_dim0 = torch.sum(tensor, dim=0)  # tensor([4, 6])\n",
        "sum_dim1 = torch.sum(tensor, dim=1)  # tensor([3, 7])\n",
        "\n",
        "mean_all = torch.mean(tensor.float())  # tensor(2.5000)\n"
      ],
      "metadata": {
        "id": "lmMzGqgOs_kk"
      },
      "execution_count": null,
      "outputs": []
    },
    {
      "cell_type": "code",
      "source": [
        "a = torch.tensor([1, 2, 3])\n",
        "b = torch.tensor([2, 2, 2])\n",
        "\n",
        "greater = a > b  # tensor([False, False, True])\n",
        "equal = a == b   # tensor([False, True, False])\n"
      ],
      "metadata": {
        "id": "dLsS1TKhtAn2"
      },
      "execution_count": null,
      "outputs": []
    },
    {
      "cell_type": "code",
      "source": [
        "## My Code\n",
        "\n",
        "tensor = torch.tensor([[1, 2, 3], [3, 4, 5]])\n",
        "\n",
        "sum_all = torch.sum(tensor)\n",
        "sum_dim0 = torch.sum(tensor, dim=0)\n",
        "sum_dim1 = torch.sum(tensor, dim=1)\n",
        "\n",
        "mean_all = torch.mean(tensor.float())\n",
        "\n",
        "# print(sum_all)\n",
        "# print(sum_dim0)\n",
        "# print(sum_dim1)\n",
        "# print(mean_all)\n",
        "\n",
        "a = torch.tensor([1.0, 2.0, 3.0])\n",
        "b = torch.tensor([4.0, 5.0, 6.0])\n",
        "max_a = torch.max(a)\n",
        "max_ab = torch.max(a, b)\n",
        "\n",
        "# print(max_a)\n",
        "# print(max_ab)"
      ],
      "metadata": {
        "id": "Vu_iVqJmU0kE"
      },
      "execution_count": null,
      "outputs": []
    },
    {
      "cell_type": "markdown",
      "source": [
        "## Pytorch로 다시 해 보는 선형회귀\n",
        "\n",
        "주어진 데이터 $(x_i, y_i)$ 에 대해서 $y=wx+b$에서, 가장 적절한 w와 b를 찾는 것이 선형회귀였음.\n",
        "\n",
        "y = wx + b 에서, w와 b는 parameter이고 x는 입력, y는 출력임.\n",
        "이 때 w랑 b를 구하기 위해서, 다음의 loss function을 최소화하는 방향으로 학습하고 싶다고 하자.\n",
        "\n",
        "$ MSE = \\frac{1}{n} \\sum_{i=1}^{n} (y_i - \\hat{y}_i)^2 $\n",
        "\n",
        "원래는 저 값을 그냥 바로 식으로 계산할 수 있었지만, 언제나 그렇지는 않기 때문에 (선형회귀 외의 다른 모델들에서) 수치적으로 계산해보자.\n",
        "\n",
        "\n"
      ],
      "metadata": {
        "id": "Wo5udXG_t6Jv"
      }
    },
    {
      "cell_type": "code",
      "source": [
        "# 임의로 데이터를 한번 만들어 보자.\n",
        "# True parameters\n",
        "true_w = 2.0\n",
        "true_b = 1.0\n",
        "\n",
        "# Generate data\n",
        "X = torch.randn(100, 1) * 10  # 100 samples, single feature\n",
        "y = true_w * X + true_b + torch.randn(100, 1) * 2  # Add noise\n",
        "\n",
        "# requires_grad = True로 해야 학습이 가능\n",
        "w = torch.randn(1, 1, requires_grad=True)\n",
        "b = torch.randn(1, requires_grad=True)\n",
        "\n",
        "learning_rate = 0.005\n",
        "epochs = 1000\n",
        "\n",
        "for epoch in range(epochs):\n",
        "    # Forward pass: compute predicted y\n",
        "    y_pred = X * w + b\n",
        "\n",
        "    # Compute and print loss\n",
        "    loss = torch.mean((y_pred - y) ** 2)\n",
        "\n",
        "    # Backward pass: compute gradients\n",
        "    loss.backward()\n",
        "\n",
        "    # Update parameters using gradient descent\n",
        "    with torch.no_grad():\n",
        "        w -= learning_rate * w.grad\n",
        "        b -= learning_rate * b.grad\n",
        "\n",
        "    # Zero gradients after updating\n",
        "    w.grad.zero_()\n",
        "    b.grad.zero_()\n",
        "\n",
        "    if epoch % 100 == 0:\n",
        "        print(f'Epoch {epoch}: w = {w.item():.4f}, b = {b.item():.4f}, loss = {loss.item():.4f}')\n",
        "\n"
      ],
      "metadata": {
        "colab": {
          "base_uri": "https://localhost:8080/"
        },
        "id": "UeaB0-MIwM3h",
        "outputId": "a863975d-ffe7-48cb-b4c0-4d84a2229edb"
      },
      "execution_count": null,
      "outputs": [
        {
          "output_type": "stream",
          "name": "stdout",
          "text": [
            "Epoch 0: w = 1.5339, b = -1.3342, loss = 566.6057\n",
            "Epoch 100: w = 2.0081, b = 0.1227, loss = 4.3501\n",
            "Epoch 200: w = 2.0154, b = 0.6661, loss = 3.7024\n",
            "Epoch 300: w = 2.0181, b = 0.8679, loss = 3.6131\n",
            "Epoch 400: w = 2.0191, b = 0.9429, loss = 3.6008\n",
            "Epoch 500: w = 2.0194, b = 0.9707, loss = 3.5991\n",
            "Epoch 600: w = 2.0196, b = 0.9810, loss = 3.5988\n",
            "Epoch 700: w = 2.0196, b = 0.9849, loss = 3.5988\n",
            "Epoch 800: w = 2.0196, b = 0.9863, loss = 3.5988\n",
            "Epoch 900: w = 2.0196, b = 0.9868, loss = 3.5988\n"
          ]
        }
      ]
    },
    {
      "cell_type": "markdown",
      "source": [
        "TODO: 위 선형회귀 부분을 함수로 만들고, 다양한 하이퍼파라미터 (여기서의 hyperparameter은 learning rate 뿐임)를 바꿔가며 최적의 모델을 찾아보세요.\n"
      ],
      "metadata": {
        "id": "Y2IbgzEsuXLv"
      }
    },
    {
      "cell_type": "code",
      "source": [
        "# write your code here\n",
        "import torch\n",
        "\n",
        "# 선형 회귀 학습 함수 (에포크별로 학습)\n",
        "def train_linear_regression(X, y, learning_rate, epochs=1000):\n",
        "    # 학습 가능한 파라미터 초기화\n",
        "    w = torch.randn(1, 1, requires_grad=True)\n",
        "    b = torch.randn(1, requires_grad=True)\n",
        "    best_loss = float('inf')\n",
        "    best_epoch = 0\n",
        "\n",
        "    for epoch in range(epochs):\n",
        "        # 예측값 계산\n",
        "        y_pred = X * w + b\n",
        "\n",
        "        # 손실 함수 계산 (평균 제곱 오차)\n",
        "        loss = torch.mean((y_pred - y) ** 2)\n",
        "\n",
        "        # 역전파로 그라디언트 계산\n",
        "        loss.backward()\n",
        "\n",
        "        # 그라디언트 하강법으로 파라미터 업데이트\n",
        "        with torch.no_grad():\n",
        "            w -= learning_rate * w.grad\n",
        "            b -= learning_rate * b.grad\n",
        "\n",
        "        # 업데이트 후 그라디언트 초기화\n",
        "        w.grad.zero_()\n",
        "        b.grad.zero_()\n",
        "\n",
        "        # 최적의 손실값과 에포크 저장\n",
        "        if loss.item() < best_loss:\n",
        "            best_loss = loss.item()\n",
        "            best_epoch = epoch\n",
        "\n",
        "    return w.item(), b.item(), best_loss, best_epoch\n",
        "\n",
        "# 최적의 학습률과 에포크 찾는 함수\n",
        "def find_best_learning_rate_and_epoch(X, y, learning_rates, epoch_range=1000):\n",
        "    best_lr = None\n",
        "    best_epoch = None\n",
        "    best_loss = float('inf')  # 무한대로 초기화\n",
        "    best_w, best_b = None, None\n",
        "\n",
        "    for lr in learning_rates:\n",
        "        print(f\"\\n학습률: {lr}로 학습 중\")\n",
        "        w, b, loss, epoch = train_linear_regression(X, y, learning_rate=lr, epochs=epoch_range)\n",
        "        print(f\"최종 파라미터: w = {w}, b = {b}, 최종 손실 = {loss:.4f}, 최적 에포크 = {epoch}\")\n",
        "\n",
        "        # 손실값이 가장 낮은 학습률 및 에포크 찾기\n",
        "        if loss < best_loss:\n",
        "            best_loss = loss\n",
        "            best_lr = lr\n",
        "            best_w, best_b = w, b\n",
        "            best_epoch = epoch\n",
        "\n",
        "    print(f\"\\n최적의 학습률은 {best_lr}, 최적의 에포크는 {best_epoch}입니다.\")\n",
        "    print(f\"최적의 파라미터: w = {best_w}, b = {best_b}, 최종 손실 = {best_loss:.4f}\")\n",
        "\n",
        "    return best_lr, best_epoch, best_w, best_b, best_loss\n",
        "\n",
        "# 데이터 생성용 실제 파라미터\n",
        "true_w = 2.0\n",
        "true_b = 1.0\n",
        "\n",
        "# 가짜 데이터 생성\n",
        "X = torch.randn(100, 1) * 10  # 100개의 샘플, 1개의 특징\n",
        "y = true_w * X + true_b + torch.randn(100, 1) * 2  # 노이즈 추가\n",
        "\n",
        "# 테스트할 학습률 목록\n",
        "learning_rates = [0.001, 0.005, 0.01]\n",
        "\n",
        "# 최적의 학습률과 에포크 찾기\n",
        "best_lr, best_epoch, best_w, best_b, best_loss = find_best_learning_rate_and_epoch(X, y, learning_rates, epoch_range=1000)\n",
        "\n",
        "# 최적의 학습률과 에포크로 모델 재학습\n",
        "print(f\"\\n최적의 학습률: {best_lr}, 최적의 에포크: {best_epoch}로 모델 재학습 중...\")\n",
        "final_w, final_b, final_loss, _ = train_linear_regression(X, y, learning_rate=best_lr, epochs=best_epoch)\n",
        "print(f\"\\n최종 모델: w = {final_w}, b = {final_b}, 최종 손실 = {final_loss:.4f}\")"
      ],
      "metadata": {
        "id": "dDFD6NNUuW5S",
        "colab": {
          "base_uri": "https://localhost:8080/"
        },
        "outputId": "0591174d-d92a-496c-a973-67c3e166ba78"
      },
      "execution_count": null,
      "outputs": [
        {
          "output_type": "stream",
          "name": "stdout",
          "text": [
            "\n",
            "학습률: 0.001로 학습 중\n",
            "최종 파라미터: w = 1.9993720054626465, b = 0.7676607370376587, 최종 손실 = 3.2383, 최적 에포크 = 999\n",
            "\n",
            "학습률: 0.005로 학습 중\n",
            "최종 파라미터: w = 2.0017611980438232, b = 0.9263516068458557, 최종 손실 = 3.2136, 최적 에포크 = 871\n",
            "\n",
            "학습률: 0.01로 학습 중\n",
            "최종 파라미터: w = nan, b = nan, 최종 손실 = 1105.6589, 최적 에포크 = 0\n",
            "\n",
            "최적의 학습률은 0.005, 최적의 에포크는 871입니다.\n",
            "최적의 파라미터: w = 2.0017611980438232, b = 0.9263516068458557, 최종 손실 = 3.2136\n",
            "\n",
            "최적의 학습률: 0.005, 최적의 에포크: 871로 모델 재학습 중...\n",
            "\n",
            "최종 모델: w = 2.0017571449279785, b = 0.9260810017585754, 최종 손실 = 3.2136\n"
          ]
        }
      ]
    },
    {
      "cell_type": "code",
      "source": [
        "### Solution\n",
        "import random\n",
        "\n",
        "def generate_artificial_data(true_w, true_b, n_data,\n",
        "                                x_amplitude = 10,\n",
        "                                noise_amplitude = 0.2):\n",
        "    \"\"\"Generate data from y = true_w * x + true_b\n",
        "    \"\"\"\n",
        "    X = torch.randn(n_data, 1) * x_amplitude\n",
        "    y = true_w * X + true_b + torch.randn(n_data, 1) * noise_amplitude\n",
        "    # 노이즈를 섞어줌\n",
        "\n",
        "    return X, y\n",
        "\n",
        "def linear_regression(data, learning_rate, epochs, queit = False):\n",
        "    X, y = data\n",
        "    w = torch.randn(1, 1, requires_grad=True)\n",
        "    b = torch.randn(1, requires_grad=True)\n",
        "\n",
        "    for epoch in range(epochs):\n",
        "\n",
        "        # Forward pass: compute predicted y\n",
        "        # 100, 1 / 1 -> 100, 1 / 1, 1 -> 100, 1 / 100, 1\n",
        "        y_pred = X * w + b # y_pred: 100, 1\n",
        "\n",
        "        # Compute and print loss\n",
        "        loss = torch.mean((y_pred - y) ** 2) # 100, 1\n",
        "\n",
        "        if epoch % 100 == 0 and not queit:\n",
        "            print(f'Epoch {epoch}: w = {w.item():.4f}, b = {b.item():.4f}, loss = {loss.item():.4f}')\n",
        "        # Backward pass: compute gradients\n",
        "        loss.backward()\n",
        "        # 미분하는 부분\n",
        "\n",
        "        # Update parameters using gradient descent\n",
        "        with torch.no_grad():\n",
        "            w -= learning_rate * w.grad\n",
        "            b -= learning_rate * b.grad\n",
        "\n",
        "        # Zero gradients after updating\n",
        "        w.grad.zero_()\n",
        "        b.grad.zero_()\n",
        "        # zero를 안하면 ?\n",
        "\n",
        "    return w, b\n",
        "\n",
        "data = generate_artificial_data(2.0, 1.0, 1000)\n",
        "linear_regression(data, 0.001, 1000)\n",
        "\n",
        "def evaluate_model(true_w, true_b, w, b):\n",
        "    return (true_w - w) ** 2 / true_w ** 2 + (true_b - b) ** 2 / true_b ** 2\n",
        "\n",
        "def find_learning_rate():\n",
        "    true_w = random.gauss(0, 10)\n",
        "    true_b = random.gauss(0, 10)\n",
        "\n",
        "    data = generate_artificial_data(true_w, true_b, 1000)\n",
        "\n",
        "    for learning_rate in [0.0001 * (i+1) for i in range(10)]:\n",
        "        w, b = linear_regression(data, learning_rate, 1000, queit = True)\n",
        "        score = evaluate_model(true_w, true_b, w, b)\n",
        "        print(score, learning_rate)\n",
        "\n",
        "find_learning_rate()"
      ],
      "metadata": {
        "colab": {
          "base_uri": "https://localhost:8080/"
        },
        "id": "U3lU39SNMPlw",
        "outputId": "aca6f4f1-4211-402e-cd5b-240c24e3b858"
      },
      "execution_count": null,
      "outputs": [
        {
          "output_type": "stream",
          "name": "stdout",
          "text": [
            "Epoch 0: w = 0.1490, b = 0.1079, loss = 337.1596\n",
            "Epoch 100: w = 1.9962, b = 0.2602, loss = 0.5786\n",
            "Epoch 200: w = 1.9970, b = 0.3934, loss = 0.4008\n",
            "Epoch 300: w = 1.9976, b = 0.5025, loss = 0.2815\n",
            "Epoch 400: w = 1.9981, b = 0.5918, loss = 0.2014\n",
            "Epoch 500: w = 1.9985, b = 0.6650, loss = 0.1477\n",
            "Epoch 600: w = 1.9988, b = 0.7250, loss = 0.1117\n",
            "Epoch 700: w = 1.9991, b = 0.7741, loss = 0.0875\n",
            "Epoch 800: w = 1.9993, b = 0.8143, loss = 0.0713\n",
            "Epoch 900: w = 1.9995, b = 0.8472, loss = 0.0604\n",
            "tensor([[0.8371]], grad_fn=<AddBackward0>) 0.0001\n",
            "tensor([[0.6180]], grad_fn=<AddBackward0>) 0.0002\n",
            "tensor([[0.2699]], grad_fn=<AddBackward0>) 0.00030000000000000003\n",
            "tensor([[0.2060]], grad_fn=<AddBackward0>) 0.0004\n",
            "tensor([[0.1534]], grad_fn=<AddBackward0>) 0.0005\n",
            "tensor([[0.0953]], grad_fn=<AddBackward0>) 0.0006000000000000001\n",
            "tensor([[0.0437]], grad_fn=<AddBackward0>) 0.0007\n",
            "tensor([[0.0416]], grad_fn=<AddBackward0>) 0.0008\n",
            "tensor([[0.0328]], grad_fn=<AddBackward0>) 0.0009000000000000001\n",
            "tensor([[0.0232]], grad_fn=<AddBackward0>) 0.001\n"
          ]
        }
      ]
    },
    {
      "cell_type": "markdown",
      "source": [
        "### 선형회귀 조금 더 해보기\n"
      ],
      "metadata": {
        "id": "XlzOMd44rinI"
      }
    },
    {
      "cell_type": "markdown",
      "source": [
        "TODO: 이번에는 비슷하게, 입력이 3개이고 출력이 1개인 선형회귀를 해 보자.\n",
        "\n",
        "$y = w_1 x_1 + w_2 x_2 + w_3 x_3 + b$"
      ],
      "metadata": {
        "id": "pgue321swjEE"
      }
    },
    {
      "cell_type": "code",
      "source": [
        "# y = w1*x1 + w2 * x2 + w3 * x3 + b\n",
        "import random\n",
        "\n",
        "def generate_artificial_data(true_w, true_b, n_data,\n",
        "                                x_amplitude = 10,\n",
        "                                noise_amplitude = 0.2):\n",
        "    \"\"\"Generate data from y = true_w1 * x1 + true_w2 * x2 + true_w3 * x3 +true_b\n",
        "    \"\"\"\n",
        "    # Generated x1, x2, x3\n",
        "    X = torch.randn(n_data, 3) * x_amplitude\n",
        "    y = true_w[0] * X[:, 0:1] + true_w[1] * X[:, 1:2] + true_w[2] * X[:, 2:3] + true_b\n",
        "\n",
        "    # Noise\n",
        "    y += torch.randn(n_data, 1) * noise_amplitude\n",
        "\n",
        "    return X, y\n",
        "\n",
        "def linear_regression(data, learning_rate, epochs, quiet = False):\n",
        "    X, y = data\n",
        "    w = torch.randn(3, 1, requires_grad=True)\n",
        "    b = torch.randn(1, requires_grad=True)\n",
        "\n",
        "    for epoch in range(epochs):\n",
        "\n",
        "        # Forward pass: compute predicted y\n",
        "        # 100, 1 / 1 -> 100, 1 / 1, 1 -> 100, 1 / 100, 1\n",
        "        y_pred = X @ w + b # y_pred: 100, 1\n",
        "\n",
        "        # Compute and print loss\n",
        "        loss = torch.mean((y_pred - y) ** 2) # 100, 1\n",
        "\n",
        "        if epoch % 100 == 0 and not quiet:\n",
        "            print(f'Epoch {epoch}: loss = {loss.item():.4f}')\n",
        "        # Backward pass: compute gradients\n",
        "        loss.backward()\n",
        "\n",
        "        # Update parameters using gradient descent\n",
        "        with torch.no_grad():\n",
        "            w -= learning_rate * w.grad\n",
        "            b -= learning_rate * b.grad\n",
        "\n",
        "        # Zero gradients after updating\n",
        "        w.grad.zero_()\n",
        "        b.grad.zero_()\n",
        "\n",
        "    return w, b\n",
        "\n",
        "data = generate_artificial_data([2.0, 2.0, 2.0], 1.0, 1000)\n",
        "linear_regression(data, 0.001, 1000)\n",
        "\n",
        "def evaluate_model(true_w, true_b, w, b):\n",
        "    return torch.mean((true_w - w)**2 / true_w**2) + (true_b - b)**2 / true_b**2\n",
        "\n",
        "def find_learning_rate():\n",
        "    true_w =  [random.gauss(0, 10) for _ in range(3)]\n",
        "    true_b = random.gauss(0, 10)\n",
        "\n",
        "    data = generate_artificial_data(true_w, true_b, 1000)\n",
        "\n",
        "    for learning_rate in [0.0001 * (i+1) for i in range(10)]:\n",
        "        w, b = linear_regression(data, learning_rate, 1000, quiet = True)\n",
        "        score = evaluate_model(torch.tensor(true_w).reshape(-1, 1), true_b, w, b)\n",
        "        print(f\"Model evaluation score: {score.item():.6f} | Learning rate: {learning_rate:.6f}\")\n",
        "\n",
        "find_learning_rate()"
      ],
      "metadata": {
        "id": "Pe5Uqs91xjtC",
        "colab": {
          "base_uri": "https://localhost:8080/"
        },
        "outputId": "5be1dac2-64fc-47e8-b822-a80de1031f84"
      },
      "execution_count": null,
      "outputs": [
        {
          "output_type": "stream",
          "name": "stdout",
          "text": [
            "Epoch 0: loss = 280.2804\n",
            "Epoch 100: loss = 0.0529\n",
            "Epoch 200: loss = 0.0497\n",
            "Epoch 300: loss = 0.0475\n",
            "Epoch 400: loss = 0.0461\n",
            "Epoch 500: loss = 0.0451\n",
            "Epoch 600: loss = 0.0445\n",
            "Epoch 700: loss = 0.0441\n",
            "Epoch 800: loss = 0.0438\n",
            "Epoch 900: loss = 0.0436\n",
            "Model evaluation score: 1.222446 | Learning rate: 0.000100\n",
            "Model evaluation score: 0.145732 | Learning rate: 0.000200\n",
            "Model evaluation score: 0.041431 | Learning rate: 0.000300\n",
            "Model evaluation score: 0.137022 | Learning rate: 0.000400\n",
            "Model evaluation score: 0.168379 | Learning rate: 0.000500\n",
            "Model evaluation score: 0.025656 | Learning rate: 0.000600\n",
            "Model evaluation score: 0.065863 | Learning rate: 0.000700\n",
            "Model evaluation score: 0.042665 | Learning rate: 0.000800\n",
            "Model evaluation score: 0.031286 | Learning rate: 0.000900\n",
            "Model evaluation score: 0.026937 | Learning rate: 0.001000\n"
          ]
        }
      ]
    },
    {
      "cell_type": "markdown",
      "source": [
        "### 뒤에서 할 내용 미리 살짝 엿보기 - Optimizer\n"
      ],
      "metadata": {
        "id": "ROZ96vR1wI5h"
      }
    },
    {
      "cell_type": "code",
      "source": [
        "# 이번에는 adam optimizer를 한번 사용해보자.\n",
        "\n",
        "import torch\n",
        "import math\n",
        "\n",
        "# 임의로 데이터를 한번 만들어 보자.\n",
        "# True parameters\n",
        "true_w = 2.0\n",
        "true_b = 1.0\n",
        "\n",
        "# Generate data\n",
        "X = torch.randn(100, 1) * 10  # 100 samples, single feature\n",
        "y = true_w * X + true_b + torch.randn(100, 1) * 2  # Add noise\n",
        "\n",
        "# requires_grad = True로 해야 학습이 가능\n",
        "w = torch.randn(1, 1, requires_grad=True)\n",
        "b = torch.randn(1, requires_grad=True)\n",
        "\n",
        "# 아담 옵티마이저 하이퍼파라미터 설정\n",
        "learning_rate = 0.005\n",
        "epochs = 10000\n",
        "beta1 = 0.9\n",
        "beta2 = 0.999\n",
        "epsilon = 1e-8\n",
        "\n",
        "# 아담 옵티마이저를 위한 모멘트 변수 초기화\n",
        "m_w = torch.zeros_like(w)\n",
        "v_w = torch.zeros_like(w)\n",
        "m_b = torch.zeros_like(b)\n",
        "v_b = torch.zeros_like(b)\n",
        "\n",
        "# 아담 옵티마이저를 위한 시간 스텝 변수 초기화\n",
        "t = 0\n",
        "\n",
        "for epoch in range(1, epochs + 1):\n",
        "    # Forward pass: compute predicted y\n",
        "    y_pred = X * w + b\n",
        "\n",
        "    # Compute and print loss\n",
        "    loss = torch.mean((y_pred - y) ** 2)\n",
        "\n",
        "    # Backward pass: compute gradients\n",
        "    loss.backward()\n",
        "\n",
        "    # 아담 옵티마이저 업데이트\n",
        "    with torch.no_grad():\n",
        "        t += 1  # 시간 스텝 증가\n",
        "\n",
        "        # w 파라미터 업데이트\n",
        "        m_w = beta1 * m_w + (1 - beta1) * w.grad\n",
        "        v_w = beta2 * v_w + (1 - beta2) * (w.grad ** 2)\n",
        "        # 편향 보정\n",
        "        m_w_hat = m_w / (1 - beta1 ** t)\n",
        "        v_w_hat = v_w / (1 - beta2 ** t)\n",
        "        # 파라미터 업데이트\n",
        "        w -= learning_rate * m_w_hat / (torch.sqrt(v_w_hat) + epsilon)\n",
        "\n",
        "        # b 파라미터 업데이트\n",
        "        m_b = beta1 * m_b + (1 - beta1) * b.grad\n",
        "        v_b = beta2 * v_b + (1 - beta2) * (b.grad ** 2)\n",
        "        # 편향 보정\n",
        "        m_b_hat = m_b / (1 - beta1 ** t)\n",
        "        v_b_hat = v_b / (1 - beta2 ** t)\n",
        "        # 파라미터 업데이트\n",
        "        b -= learning_rate * m_b_hat / (torch.sqrt(v_b_hat) + epsilon)\n",
        "\n",
        "    # Gradients 초기화\n",
        "    w.grad.zero_()\n",
        "    b.grad.zero_()\n",
        "\n",
        "    if epoch % 100 == 0:\n",
        "        print(f'Epoch {epoch}: w = {w.item():.4f}, b = {b.item():.4f}, loss = {loss.item():.4f}')\n"
      ],
      "metadata": {
        "colab": {
          "base_uri": "https://localhost:8080/"
        },
        "id": "bR7URmNB0e7n",
        "outputId": "b21cc885-4df2-4186-9ebb-a0a61df1a25f"
      },
      "execution_count": null,
      "outputs": [
        {
          "output_type": "stream",
          "name": "stdout",
          "text": [
            "Epoch 100: w = 0.4538, b = 0.6321, loss = 232.1743\n",
            "Epoch 200: w = 0.8628, b = 0.7429, loss = 125.5062\n",
            "Epoch 300: w = 1.1979, b = 0.7596, loss = 62.8166\n",
            "Epoch 400: w = 1.4589, b = 0.7670, loss = 29.4067\n",
            "Epoch 500: w = 1.6505, b = 0.7722, loss = 13.4811\n",
            "Epoch 600: w = 1.7824, b = 0.7758, loss = 6.7643\n",
            "Epoch 700: w = 1.8669, b = 0.7781, loss = 4.2762\n",
            "Epoch 800: w = 1.9174, b = 0.7795, loss = 3.4704\n",
            "Epoch 900: w = 1.9455, b = 0.7803, loss = 3.2429\n",
            "Epoch 1000: w = 1.9600, b = 0.7807, loss = 3.1870\n",
            "Epoch 1100: w = 1.9669, b = 0.7808, loss = 3.1751\n",
            "Epoch 1200: w = 1.9700, b = 0.7809, loss = 3.1729\n",
            "Epoch 1300: w = 1.9713, b = 0.7810, loss = 3.1726\n",
            "Epoch 1400: w = 1.9717, b = 0.7810, loss = 3.1726\n",
            "Epoch 1500: w = 1.9719, b = 0.7810, loss = 3.1725\n",
            "Epoch 1600: w = 1.9720, b = 0.7810, loss = 3.1725\n",
            "Epoch 1700: w = 1.9720, b = 0.7810, loss = 3.1725\n",
            "Epoch 1800: w = 1.9720, b = 0.7810, loss = 3.1725\n",
            "Epoch 1900: w = 1.9720, b = 0.7810, loss = 3.1725\n",
            "Epoch 2000: w = 1.9720, b = 0.7810, loss = 3.1725\n",
            "Epoch 2100: w = 1.9720, b = 0.7810, loss = 3.1725\n",
            "Epoch 2200: w = 1.9720, b = 0.7810, loss = 3.1725\n",
            "Epoch 2300: w = 1.9720, b = 0.7810, loss = 3.1725\n",
            "Epoch 2400: w = 1.9720, b = 0.7810, loss = 3.1725\n",
            "Epoch 2500: w = 1.9720, b = 0.7810, loss = 3.1725\n",
            "Epoch 2600: w = 1.9720, b = 0.7810, loss = 3.1725\n",
            "Epoch 2700: w = 1.9720, b = 0.7810, loss = 3.1725\n",
            "Epoch 2800: w = 1.9720, b = 0.7810, loss = 3.1725\n",
            "Epoch 2900: w = 1.9720, b = 0.7810, loss = 3.1725\n",
            "Epoch 3000: w = 1.9720, b = 0.7810, loss = 3.1725\n",
            "Epoch 3100: w = 1.9720, b = 0.7810, loss = 3.1725\n",
            "Epoch 3200: w = 1.9720, b = 0.7810, loss = 3.1725\n",
            "Epoch 3300: w = 1.9720, b = 0.7810, loss = 3.1725\n",
            "Epoch 3400: w = 1.9720, b = 0.7810, loss = 3.1725\n",
            "Epoch 3500: w = 1.9720, b = 0.7810, loss = 3.1725\n",
            "Epoch 3600: w = 1.9720, b = 0.7810, loss = 3.1725\n",
            "Epoch 3700: w = 1.9720, b = 0.7810, loss = 3.1725\n",
            "Epoch 3800: w = 1.9720, b = 0.7810, loss = 3.1725\n",
            "Epoch 3900: w = 1.9720, b = 0.7810, loss = 3.1725\n",
            "Epoch 4000: w = 1.9720, b = 0.7810, loss = 3.1725\n",
            "Epoch 4100: w = 1.9720, b = 0.7810, loss = 3.1725\n",
            "Epoch 4200: w = 1.9720, b = 0.7810, loss = 3.1725\n",
            "Epoch 4300: w = 1.9720, b = 0.7810, loss = 3.1725\n",
            "Epoch 4400: w = 1.9720, b = 0.7810, loss = 3.1725\n",
            "Epoch 4500: w = 1.9720, b = 0.7810, loss = 3.1725\n",
            "Epoch 4600: w = 1.9720, b = 0.7810, loss = 3.1725\n",
            "Epoch 4700: w = 1.9720, b = 0.7810, loss = 3.1725\n",
            "Epoch 4800: w = 1.9720, b = 0.7810, loss = 3.1725\n",
            "Epoch 4900: w = 1.9720, b = 0.7810, loss = 3.1725\n",
            "Epoch 5000: w = 1.9720, b = 0.7810, loss = 3.1725\n",
            "Epoch 5100: w = 1.9720, b = 0.7810, loss = 3.1725\n",
            "Epoch 5200: w = 1.9720, b = 0.7810, loss = 3.1725\n",
            "Epoch 5300: w = 1.9720, b = 0.7810, loss = 3.1725\n",
            "Epoch 5400: w = 1.9720, b = 0.7810, loss = 3.1725\n",
            "Epoch 5500: w = 1.9720, b = 0.7810, loss = 3.1725\n",
            "Epoch 5600: w = 1.9720, b = 0.7810, loss = 3.1725\n",
            "Epoch 5700: w = 1.9720, b = 0.7810, loss = 3.1725\n",
            "Epoch 5800: w = 1.9720, b = 0.7810, loss = 3.1725\n",
            "Epoch 5900: w = 1.9720, b = 0.7810, loss = 3.1725\n",
            "Epoch 6000: w = 1.9720, b = 0.7810, loss = 3.1725\n",
            "Epoch 6100: w = 1.9720, b = 0.7810, loss = 3.1725\n",
            "Epoch 6200: w = 1.9720, b = 0.7810, loss = 3.1725\n",
            "Epoch 6300: w = 1.9720, b = 0.7810, loss = 3.1725\n",
            "Epoch 6400: w = 1.9720, b = 0.7810, loss = 3.1725\n",
            "Epoch 6500: w = 1.9720, b = 0.7810, loss = 3.1725\n",
            "Epoch 6600: w = 1.9720, b = 0.7810, loss = 3.1725\n",
            "Epoch 6700: w = 1.9720, b = 0.7810, loss = 3.1725\n",
            "Epoch 6800: w = 1.9720, b = 0.7810, loss = 3.1725\n",
            "Epoch 6900: w = 1.9720, b = 0.7810, loss = 3.1725\n",
            "Epoch 7000: w = 1.9720, b = 0.7810, loss = 3.1725\n",
            "Epoch 7100: w = 1.9720, b = 0.7810, loss = 3.1725\n",
            "Epoch 7200: w = 1.9720, b = 0.7810, loss = 3.1725\n",
            "Epoch 7300: w = 1.9720, b = 0.7810, loss = 3.1725\n",
            "Epoch 7400: w = 1.9720, b = 0.7810, loss = 3.1725\n",
            "Epoch 7500: w = 1.9720, b = 0.7810, loss = 3.1725\n",
            "Epoch 7600: w = 1.9720, b = 0.7810, loss = 3.1725\n",
            "Epoch 7700: w = 1.9720, b = 0.7810, loss = 3.1725\n",
            "Epoch 7800: w = 1.9720, b = 0.7810, loss = 3.1725\n",
            "Epoch 7900: w = 1.9720, b = 0.7810, loss = 3.1725\n",
            "Epoch 8000: w = 1.9720, b = 0.7810, loss = 3.1725\n",
            "Epoch 8100: w = 1.9720, b = 0.7810, loss = 3.1725\n",
            "Epoch 8200: w = 1.9720, b = 0.7810, loss = 3.1725\n",
            "Epoch 8300: w = 1.9720, b = 0.7810, loss = 3.1725\n",
            "Epoch 8400: w = 1.9720, b = 0.7810, loss = 3.1725\n",
            "Epoch 8500: w = 1.9720, b = 0.7810, loss = 3.1725\n",
            "Epoch 8600: w = 1.9720, b = 0.7810, loss = 3.1725\n",
            "Epoch 8700: w = 1.9720, b = 0.7810, loss = 3.1725\n",
            "Epoch 8800: w = 1.9720, b = 0.7810, loss = 3.1725\n",
            "Epoch 8900: w = 1.9720, b = 0.7810, loss = 3.1725\n",
            "Epoch 9000: w = 1.9720, b = 0.7810, loss = 3.1725\n",
            "Epoch 9100: w = 1.9720, b = 0.7810, loss = 3.1725\n",
            "Epoch 9200: w = 1.9720, b = 0.7810, loss = 3.1725\n",
            "Epoch 9300: w = 1.9720, b = 0.7810, loss = 3.1725\n",
            "Epoch 9400: w = 1.9720, b = 0.7810, loss = 3.1725\n",
            "Epoch 9500: w = 1.9720, b = 0.7810, loss = 3.1725\n",
            "Epoch 9600: w = 1.9720, b = 0.7810, loss = 3.1725\n",
            "Epoch 9700: w = 1.9720, b = 0.7810, loss = 3.1725\n",
            "Epoch 9800: w = 1.9720, b = 0.7810, loss = 3.1725\n",
            "Epoch 9900: w = 1.9720, b = 0.7810, loss = 3.1725\n",
            "Epoch 10000: w = 1.9720, b = 0.7810, loss = 3.1725\n"
          ]
        }
      ]
    },
    {
      "cell_type": "markdown",
      "source": [
        "자꾸 local minima 어딘가에 빠지는 것 같다. 이걸 수정하기 위해서, 일정 횟수 이상 바뀌지 않으면 noise를 주는 방식을 생각해보자.\n"
      ],
      "metadata": {
        "id": "BhIwbEiQ6meH"
      }
    },
    {
      "cell_type": "code",
      "source": [
        "import torch\n",
        "import math\n",
        "\n",
        "# 임의로 데이터를 한번 만들어 보자.\n",
        "# True parameters\n",
        "true_w = 2.0\n",
        "true_b = 1.0\n",
        "\n",
        "# Generate data\n",
        "torch.manual_seed(42)  # 재현성을 위해 시드 설정\n",
        "X = torch.randn(100, 1) * 10  # 100 samples, single feature\n",
        "y = true_w * X + true_b + torch.randn(100, 1) * 2  # Add noise\n",
        "\n",
        "# requires_grad = True로 해야 학습이 가능\n",
        "w = torch.randn(1, 1, requires_grad=True)\n",
        "b = torch.randn(1, requires_grad=True)\n",
        "\n",
        "# 아담 옵티마이저 하이퍼파라미터 설정\n",
        "learning_rate = 0.005\n",
        "epochs = 10000\n",
        "beta1 = 0.9\n",
        "beta2 = 0.999\n",
        "epsilon = 1e-8\n",
        "\n",
        "# 아담 옵티마이저를 위한 모멘트 변수 초기화\n",
        "m_w = torch.zeros_like(w)\n",
        "v_w = torch.zeros_like(w)\n",
        "m_b = torch.zeros_like(b)\n",
        "v_b = torch.zeros_like(b)\n",
        "\n",
        "# 아담 옵티마이저를 위한 시간 스텝 변수 초기화\n",
        "t = 0\n",
        "\n",
        "\n",
        "patience = 300  # 손실과 파라미터 변화가 임계값 이하로 유지되는 에포크 수\n",
        "threshold_loss = 1e-4  # 손실 변화 임계값\n",
        "threshold_w = 1e-4     # w 변화 임계값\n",
        "threshold_b = 1e-4     # b 변화 임계값\n",
        "\n",
        "\n",
        "loss_history = []\n",
        "w_history = []\n",
        "b_history = []\n",
        "\n",
        "for epoch in range(1, epochs + 1):\n",
        "    # Forward pass: compute predicted y\n",
        "    y_pred = X * w + b\n",
        "\n",
        "    # Compute and print loss\n",
        "    loss = torch.mean((y_pred - y) ** 2)\n",
        "\n",
        "    # Backward pass: compute gradients\n",
        "    loss.backward()\n",
        "\n",
        "    # 아담 옵티마이저 업데이트\n",
        "    with torch.no_grad():\n",
        "        t += 1  # 시간 스텝 증가\n",
        "\n",
        "        # w 파라미터 업데이트\n",
        "        m_w = beta1 * m_w + (1 - beta1) * w.grad\n",
        "        v_w = beta2 * v_w + (1 - beta2) * (w.grad ** 2)\n",
        "        # 편향 보정\n",
        "        m_w_hat = m_w / (1 - beta1 ** t)\n",
        "        v_w_hat = v_w / (1 - beta2 ** t)\n",
        "        # 파라미터 업데이트\n",
        "        w -= learning_rate * m_w_hat / (torch.sqrt(v_w_hat) + epsilon)\n",
        "\n",
        "        # b 파라미터 업데이트\n",
        "        m_b = beta1 * m_b + (1 - beta1) * b.grad\n",
        "        v_b = beta2 * v_b + (1 - beta2) * (b.grad ** 2)\n",
        "        # 편향 보정\n",
        "        m_b_hat = m_b / (1 - beta1 ** t)\n",
        "        v_b_hat = v_b / (1 - beta2 ** t)\n",
        "        # 파라미터 업데이트\n",
        "        b -= learning_rate * m_b_hat / (torch.sqrt(v_b_hat) + epsilon)\n",
        "\n",
        "    # Gradients 초기화\n",
        "    w.grad.zero_()\n",
        "    b.grad.zero_()\n",
        "\n",
        "    # 손실과 파라미터 값을 기록\n",
        "    loss_history.append(loss.item())\n",
        "    w_history.append(w.item())\n",
        "    b_history.append(b.item())\n",
        "\n",
        "    # Patience에 도달했는지 확인\n",
        "    if epoch >= patience :\n",
        "        # 최근 'patience' 에포크의 손실 변화 계산\n",
        "        recent_losses = loss_history[-patience:]\n",
        "        loss_deltas = [abs(recent_losses[i] - recent_losses[i-1]) for i in range(1, patience)]\n",
        "        max_loss_delta = max(loss_deltas)\n",
        "\n",
        "        # 최근 'patience' 에포크의 w 변화 계산\n",
        "        recent_ws = w_history[-patience:]\n",
        "        w_deltas = [abs(recent_ws[i] - recent_ws[i-1]) for i in range(1, patience)]\n",
        "        max_w_delta = max(w_deltas)\n",
        "\n",
        "        # 최근 'patience' 에포크의 b 변화 계산\n",
        "        recent_bs = b_history[-patience:]\n",
        "        b_deltas = [abs(recent_bs[i] - recent_bs[i-1]) for i in range(1, patience)]\n",
        "        max_b_delta = max(b_deltas)\n",
        "\n",
        "        # 변화가 모두 임계값 이하인 경우 노이즈 추가\n",
        "        if (max_loss_delta < threshold_loss) and (max_w_delta < threshold_w) and (max_b_delta < threshold_b):\n",
        "            print(f'\\nEpoch {epoch}: No significant updates in the last {patience} epochs. Adding noise to parameters.')\n",
        "            # 파라미터에 노이즈 추가\n",
        "            noise_w = torch.randn_like(w) * 0.1\n",
        "            noise_b = torch.randn_like(b) * 0.1\n",
        "            w.data += noise_w\n",
        "            b.data += noise_b\n",
        "\n",
        "    if epoch % 100 == 0:\n",
        "        print(f'Epoch {epoch}: w = {w.item():.4f}, b = {b.item():.4f}, loss = {loss.item():.4f}')\n",
        "\n",
        "# 최종 파라미터 출력\n",
        "print(f'\\nFinal Parameters: w = {w.item():.4f}, b = {b.item():.4f}, loss = {loss.item():.4f}')\n"
      ],
      "metadata": {
        "colab": {
          "base_uri": "https://localhost:8080/"
        },
        "id": "Y-JPhYZV4PXg",
        "outputId": "d3f37676-330d-4e3c-e3b2-398268f0a2c6"
      },
      "execution_count": null,
      "outputs": [
        {
          "output_type": "stream",
          "name": "stdout",
          "text": [
            "Epoch 100: w = 0.8642, b = 0.2516, loss = 131.1085\n",
            "Epoch 200: w = 1.2482, b = 0.6152, loss = 59.2300\n",
            "Epoch 300: w = 1.5384, b = 0.8670, loss = 24.3059\n",
            "Epoch 400: w = 1.7397, b = 1.0158, loss = 9.8937\n",
            "Epoch 500: w = 1.8663, b = 1.0852, loss = 4.9355\n",
            "Epoch 600: w = 1.9380, b = 1.1053, loss = 3.5270\n",
            "Epoch 700: w = 1.9746, b = 1.1020, loss = 3.1972\n",
            "Epoch 800: w = 1.9914, b = 1.0920, loss = 3.1333\n",
            "Epoch 900: w = 1.9985, b = 1.0830, loss = 3.1230\n",
            "Epoch 1000: w = 2.0011, b = 1.0771, loss = 3.1216\n",
            "Epoch 1100: w = 2.0020, b = 1.0738, loss = 3.1215\n",
            "\n",
            "Epoch 1143: No significant updates in the last 300 epochs. Adding noise to parameters.\n",
            "Epoch 1200: w = 2.0690, b = 1.0295, loss = 3.5617\n",
            "Epoch 1300: w = 2.0176, b = 1.0432, loss = 3.1449\n",
            "Epoch 1400: w = 2.0055, b = 1.0597, loss = 3.1225\n",
            "Epoch 1500: w = 2.0029, b = 1.0675, loss = 3.1215\n",
            "Epoch 1600: w = 2.0025, b = 1.0703, loss = 3.1214\n",
            "Epoch 1700: w = 2.0024, b = 1.0711, loss = 3.1214\n",
            "\n",
            "Epoch 1719: No significant updates in the last 300 epochs. Adding noise to parameters.\n",
            "Epoch 1800: w = 1.9932, b = 1.0648, loss = 3.1300\n",
            "Epoch 1900: w = 2.0016, b = 1.0719, loss = 3.1215\n",
            "Epoch 2000: w = 2.0023, b = 1.0716, loss = 3.1214\n",
            "Epoch 2100: w = 2.0024, b = 1.0714, loss = 3.1214\n",
            "\n",
            "Epoch 2132: No significant updates in the last 300 epochs. Adding noise to parameters.\n",
            "Epoch 2200: w = 1.9996, b = 1.1031, loss = 3.1232\n",
            "Epoch 2300: w = 2.0022, b = 1.0747, loss = 3.1215\n",
            "Epoch 2400: w = 2.0024, b = 1.0716, loss = 3.1214\n",
            "Epoch 2500: w = 2.0024, b = 1.0714, loss = 3.1214\n",
            "\n",
            "Epoch 2589: No significant updates in the last 300 epochs. Adding noise to parameters.\n",
            "Epoch 2600: w = 2.0541, b = 0.9360, loss = 3.4015\n",
            "Epoch 2700: w = 2.0030, b = 1.0600, loss = 3.1216\n",
            "Epoch 2800: w = 2.0024, b = 1.0710, loss = 3.1214\n",
            "Epoch 2900: w = 2.0024, b = 1.0713, loss = 3.1214\n",
            "Epoch 3000: w = 2.0024, b = 1.0713, loss = 3.1214\n",
            "\n",
            "Epoch 3040: No significant updates in the last 300 epochs. Adding noise to parameters.\n",
            "Epoch 3100: w = 1.9999, b = 1.1043, loss = 3.1232\n",
            "Epoch 3200: w = 2.0024, b = 1.0714, loss = 3.1214\n",
            "Epoch 3300: w = 2.0024, b = 1.0713, loss = 3.1214\n",
            "Epoch 3400: w = 2.0024, b = 1.0713, loss = 3.1214\n",
            "\n",
            "Epoch 3459: No significant updates in the last 300 epochs. Adding noise to parameters.\n",
            "Epoch 3500: w = 2.0024, b = 1.0742, loss = 3.1215\n",
            "Epoch 3600: w = 2.0024, b = 1.0713, loss = 3.1214\n",
            "Epoch 3700: w = 2.0024, b = 1.0713, loss = 3.1214\n",
            "Epoch 3800: w = 2.0024, b = 1.0713, loss = 3.1214\n",
            "\n",
            "Epoch 3811: No significant updates in the last 300 epochs. Adding noise to parameters.\n",
            "Epoch 3900: w = 2.0015, b = 1.0751, loss = 3.1216\n",
            "Epoch 4000: w = 2.0024, b = 1.0713, loss = 3.1214\n",
            "Epoch 4100: w = 2.0024, b = 1.0713, loss = 3.1214\n",
            "Epoch 4200: w = 2.0024, b = 1.0713, loss = 3.1214\n",
            "\n",
            "Epoch 4227: No significant updates in the last 300 epochs. Adding noise to parameters.\n",
            "Epoch 4300: w = 2.0040, b = 1.0679, loss = 3.1218\n",
            "Epoch 4400: w = 2.0024, b = 1.0713, loss = 3.1214\n",
            "Epoch 4500: w = 2.0024, b = 1.0713, loss = 3.1214\n",
            "Epoch 4600: w = 2.0024, b = 1.0713, loss = 3.1214\n",
            "\n",
            "Epoch 4635: No significant updates in the last 300 epochs. Adding noise to parameters.\n",
            "Epoch 4700: w = 1.9985, b = 1.0766, loss = 3.1234\n",
            "Epoch 4800: w = 2.0024, b = 1.0715, loss = 3.1214\n",
            "Epoch 4900: w = 2.0024, b = 1.0713, loss = 3.1214\n",
            "Epoch 5000: w = 2.0024, b = 1.0713, loss = 3.1214\n",
            "\n",
            "Epoch 5044: No significant updates in the last 300 epochs. Adding noise to parameters.\n",
            "Epoch 5100: w = 2.0087, b = 1.0583, loss = 3.1268\n",
            "Epoch 5200: w = 2.0023, b = 1.0712, loss = 3.1214\n",
            "Epoch 5300: w = 2.0024, b = 1.0713, loss = 3.1214\n",
            "Epoch 5400: w = 2.0024, b = 1.0713, loss = 3.1214\n",
            "\n",
            "Epoch 5467: No significant updates in the last 300 epochs. Adding noise to parameters.\n",
            "Epoch 5500: w = 2.0052, b = 1.0815, loss = 3.1223\n",
            "Epoch 5600: w = 2.0023, b = 1.0713, loss = 3.1214\n",
            "Epoch 5700: w = 2.0024, b = 1.0713, loss = 3.1214\n",
            "Epoch 5800: w = 2.0024, b = 1.0713, loss = 3.1214\n",
            "\n",
            "Epoch 5830: No significant updates in the last 300 epochs. Adding noise to parameters.\n",
            "Epoch 5900: w = 2.0051, b = 1.0725, loss = 3.1224\n",
            "Epoch 6000: w = 2.0024, b = 1.0714, loss = 3.1214\n",
            "Epoch 6100: w = 2.0024, b = 1.0713, loss = 3.1214\n",
            "Epoch 6200: w = 2.0024, b = 1.0713, loss = 3.1214\n",
            "\n",
            "Epoch 6236: No significant updates in the last 300 epochs. Adding noise to parameters.\n",
            "Epoch 6300: w = 2.0013, b = 1.0746, loss = 3.1216\n",
            "Epoch 6400: w = 2.0024, b = 1.0713, loss = 3.1214\n",
            "Epoch 6500: w = 2.0024, b = 1.0713, loss = 3.1214\n",
            "Epoch 6600: w = 2.0024, b = 1.0713, loss = 3.1214\n",
            "\n",
            "Epoch 6627: No significant updates in the last 300 epochs. Adding noise to parameters.\n",
            "Epoch 6700: w = 2.0038, b = 1.0747, loss = 3.1217\n",
            "Epoch 6800: w = 2.0024, b = 1.0714, loss = 3.1214\n",
            "Epoch 6900: w = 2.0024, b = 1.0713, loss = 3.1214\n",
            "Epoch 7000: w = 2.0024, b = 1.0713, loss = 3.1214\n",
            "\n",
            "Epoch 7034: No significant updates in the last 300 epochs. Adding noise to parameters.\n",
            "Epoch 7100: w = 2.0048, b = 1.0767, loss = 3.1220\n",
            "Epoch 7200: w = 2.0024, b = 1.0713, loss = 3.1214\n",
            "Epoch 7300: w = 2.0024, b = 1.0713, loss = 3.1214\n",
            "Epoch 7400: w = 2.0024, b = 1.0713, loss = 3.1214\n",
            "\n",
            "Epoch 7453: No significant updates in the last 300 epochs. Adding noise to parameters.\n",
            "Epoch 7500: w = 1.9919, b = 1.0830, loss = 3.1343\n",
            "Epoch 7600: w = 2.0024, b = 1.0716, loss = 3.1214\n",
            "Epoch 7700: w = 2.0024, b = 1.0713, loss = 3.1214\n",
            "Epoch 7800: w = 2.0024, b = 1.0713, loss = 3.1214\n",
            "\n",
            "Epoch 7885: No significant updates in the last 300 epochs. Adding noise to parameters.\n",
            "Epoch 7900: w = 1.9786, b = 1.0225, loss = 3.1576\n",
            "Epoch 8000: w = 2.0025, b = 1.0722, loss = 3.1214\n",
            "Epoch 8100: w = 2.0024, b = 1.0713, loss = 3.1214\n",
            "Epoch 8200: w = 2.0024, b = 1.0713, loss = 3.1214\n",
            "\n",
            "Epoch 8295: No significant updates in the last 300 epochs. Adding noise to parameters.\n",
            "Epoch 8300: w = 2.0005, b = 1.0024, loss = 3.1283\n",
            "Epoch 8400: w = 2.0023, b = 1.0717, loss = 3.1214\n",
            "Epoch 8500: w = 2.0024, b = 1.0713, loss = 3.1214\n",
            "Epoch 8600: w = 2.0024, b = 1.0713, loss = 3.1214\n",
            "\n",
            "Epoch 8687: No significant updates in the last 300 epochs. Adding noise to parameters.\n",
            "Epoch 8700: w = 2.0347, b = 1.1205, loss = 3.1790\n",
            "Epoch 8800: w = 2.0022, b = 1.0708, loss = 3.1214\n",
            "Epoch 8900: w = 2.0024, b = 1.0713, loss = 3.1214\n",
            "Epoch 9000: w = 2.0024, b = 1.0713, loss = 3.1214\n",
            "Epoch 9100: w = 2.0024, b = 1.0713, loss = 3.1214\n",
            "\n",
            "Epoch 9103: No significant updates in the last 300 epochs. Adding noise to parameters.\n",
            "Epoch 9200: w = 2.0033, b = 1.0751, loss = 3.1215\n",
            "Epoch 9300: w = 2.0024, b = 1.0713, loss = 3.1214\n",
            "Epoch 9400: w = 2.0024, b = 1.0713, loss = 3.1214\n",
            "Epoch 9500: w = 2.0024, b = 1.0713, loss = 3.1214\n",
            "\n",
            "Epoch 9530: No significant updates in the last 300 epochs. Adding noise to parameters.\n",
            "Epoch 9600: w = 2.0013, b = 1.0695, loss = 3.1215\n",
            "Epoch 9700: w = 2.0024, b = 1.0713, loss = 3.1214\n",
            "Epoch 9800: w = 2.0024, b = 1.0713, loss = 3.1214\n",
            "Epoch 9900: w = 2.0024, b = 1.0713, loss = 3.1214\n",
            "\n",
            "Epoch 9914: No significant updates in the last 300 epochs. Adding noise to parameters.\n",
            "Epoch 10000: w = 2.0019, b = 1.0707, loss = 3.1215\n",
            "\n",
            "Final Parameters: w = 2.0019, b = 1.0707, loss = 3.1215\n"
          ]
        }
      ]
    },
    {
      "cell_type": "markdown",
      "source": [
        "## 딥러닝 들어가기\n",
        "\n",
        "\n",
        "아래 코드는 pytorch 에서 딥러닝 모델을 짤 때, 가장 일반적인 형식이라고 할 수 있다. 각 부분에서 쓰일 함수들은 문제에 따라서 다르지만, 대개의 경우 위 내용이 크게 바뀌지 않을 것임."
      ],
      "metadata": {
        "id": "ddcrBxNp7LCB"
      }
    },
    {
      "cell_type": "code",
      "source": [
        "import torch\n",
        "import torch.nn as nn\n",
        "import torch.optim as optim\n",
        "from torch.utils.data import DataLoader, TensorDataset\n",
        "import torch.nn.functional as F\n",
        "import numpy as np\n",
        "\n",
        "# Seed for reproducibility\n",
        "torch.manual_seed(0)\n",
        "np.random.seed(0)"
      ],
      "metadata": {
        "id": "uUTgBrCI7k8X"
      },
      "execution_count": null,
      "outputs": []
    },
    {
      "cell_type": "markdown",
      "source": [
        "원래대로라면 실제 데이터를 쓰는 것이 좋지만, 실험의 편리함을 위해 인공적으로 만든 합성 데이터를 사용하자.\n",
        "\n",
        "입력 feature는 20개다. 1시간 후에 비가 올지 안 올지 알고 싶은데, 현재 가지고 있는 데이터가 서울 각지의 습도 데이터라고 하자. 20곳에서 동시에 각각 습도를 잰 것이다. 이 데이터를 가지고 비가 오면 1, 비가 오지 않으면 0이라고 하자. 실제 데이터를 안 가지고 있기 때문에, 적당히 수식을 써서 비가 오는 경우와 안 오는 경우를 임의로 구분하여 합성 데이터를 만들자. 이러한 데이터 포인트 1000개를 만들자.\n",
        "\n"
      ],
      "metadata": {
        "id": "Ea1UrqfwaQy1"
      }
    },
    {
      "cell_type": "code",
      "source": [
        "import numpy as np\n",
        "import torch\n",
        "\n",
        "# Generate synthetic data\n",
        "num_samples = 1000\n",
        "input_features = 20\n",
        "\n",
        "# Features: random numbers\n",
        "X = np.random.randn(num_samples, input_features).astype(np.float32)\n",
        "\n",
        "# Labels: sum of features > 0 => class 1, else class 0\n",
        "# Please convince yourself this is the real data, while actuall not the case\n",
        "y = (X.sum(axis=1) > 0).astype(np.float32)\n",
        "\n",
        "# Convert to PyTorch tensors\n",
        "X_tensor = torch.from_numpy(X)\n",
        "y_tensor = torch.from_numpy(y).unsqueeze(1)  # Add dimension for compatibility"
      ],
      "metadata": {
        "id": "AuEAYWDf7h6d"
      },
      "execution_count": null,
      "outputs": []
    },
    {
      "cell_type": "code",
      "source": [
        "class SimpleMLP(nn.Module):\n",
        "    def __init__(self, input_size, hidden_size, output_size):\n",
        "        super(SimpleMLP, self).__init__()\n",
        "        # Define layers\n",
        "        self.fc1 = nn.Linear(input_size, hidden_size)  # First fully connected layer\n",
        "        self.relu = nn.ReLU()                         # ReLU activation\n",
        "        self.fc2 = nn.Linear(hidden_size, output_size) # Second fully connected layer\n",
        "\n",
        "    def forward(self, x):\n",
        "        out = self.fc1(x)      # Input to first layer\n",
        "        out = self.relu(out)   # Apply ReLU\n",
        "        out = self.fc2(out)    # Output layer\n",
        "        return out\n",
        "\n",
        "# Hyperparameters\n",
        "input_size = input_features\n",
        "hidden_size = 64\n",
        "output_size = 1  # Binary classification\n",
        "\n",
        "# Instantiate the model\n",
        "model = SimpleMLP(input_size, hidden_size, output_size)\n",
        "\n",
        "# Loss function and optimizer\n",
        "criterion = nn.BCEWithLogitsLoss()  # Combines a sigmoid layer and the BCELoss\n",
        "optimizer = optim.Adam(model.parameters(), lr=0.001)\n",
        "\n",
        "# Training parameters\n",
        "num_epochs = 20\n",
        "\n",
        "# Training loop\n",
        "for epoch in range(num_epochs):\n",
        "    for batch_X, batch_y in dataloader:\n",
        "        # Forward pass\n",
        "        outputs = model(batch_X)\n",
        "        loss = criterion(outputs, batch_y)\n",
        "\n",
        "        # Backward pass and optimization\n",
        "        optimizer.zero_grad()  # Clear gradients\n",
        "        loss.backward()        # Compute gradients\n",
        "        optimizer.step()       # Update weights\n",
        "\n",
        "    # Print loss for every epoch\n",
        "    print(f'Epoch [{epoch+1}/{num_epochs}], Loss: {loss.item():.4f}')\n",
        "\n",
        "# Evaluation\n",
        "model.eval()\n",
        "\n",
        "with torch.no_grad():\n",
        "    outputs = model(X_tensor)\n",
        "    predictions = torch.sigmoid(outputs)  # Apply sigmoid to get probabilities\n",
        "    predicted_classes = (predictions >= 0.5).float()\n",
        "\n",
        "    # Calculate accuracy\n",
        "    accuracy = (predicted_classes == y_tensor).float().mean()\n",
        "    print(f'Accuracy: {accuracy * 100:.2f}%')\n"
      ],
      "metadata": {
        "colab": {
          "base_uri": "https://localhost:8080/"
        },
        "id": "yXe436j_7Uda",
        "outputId": "d6766e06-58b7-455e-adb3-c489eb901ecc"
      },
      "execution_count": null,
      "outputs": [
        {
          "output_type": "stream",
          "name": "stdout",
          "text": [
            "Epoch [1/20], Loss: 0.6249\n",
            "Epoch [2/20], Loss: 0.5482\n",
            "Epoch [3/20], Loss: 0.4171\n",
            "Epoch [4/20], Loss: 0.4820\n",
            "Epoch [5/20], Loss: 0.4052\n",
            "Epoch [6/20], Loss: 0.2625\n",
            "Epoch [7/20], Loss: 0.3147\n",
            "Epoch [8/20], Loss: 0.1852\n",
            "Epoch [9/20], Loss: 0.1286\n",
            "Epoch [10/20], Loss: 0.1301\n",
            "Epoch [11/20], Loss: 0.0808\n",
            "Epoch [12/20], Loss: 0.1353\n",
            "Epoch [13/20], Loss: 0.1846\n",
            "Epoch [14/20], Loss: 0.1222\n",
            "Epoch [15/20], Loss: 0.0643\n",
            "Epoch [16/20], Loss: 0.0972\n",
            "Epoch [17/20], Loss: 0.0886\n",
            "Epoch [18/20], Loss: 0.0872\n",
            "Epoch [19/20], Loss: 0.1103\n",
            "Epoch [20/20], Loss: 0.1142\n",
            "Accuracy: 99.90%\n"
          ]
        }
      ]
    },
    {
      "cell_type": "markdown",
      "source": [
        "TODO: input_size, hidden_size, learning_rate 등의 하이퍼파라미터를 바꿔 가며 최적의 모델을 찾아보세요."
      ],
      "metadata": {
        "id": "Vq5n0jb4vxWg"
      }
    },
    {
      "cell_type": "code",
      "source": [
        "# write your code here"
      ],
      "metadata": {
        "id": "6YxkejqAw8--"
      },
      "execution_count": null,
      "outputs": []
    },
    {
      "cell_type": "markdown",
      "source": [
        "$x_0 + x_1 + ... + x_{19} >0 $"
      ],
      "metadata": {
        "id": "MmJ3YlwSaV6c"
      }
    },
    {
      "cell_type": "markdown",
      "source": [
        "$$x_0 \\cdot w_0 + \\cdots + x_{19} \\cdot w_{19} + b$$\n",
        "\n",
        "비가 오는지 오지 않는지 어떻게 추정할 수 있을까? 위 수식을 계산하여 결정한다. 비가 오면 값이 커지고, 비가 오지 않으면 값이 작아지도록 한다. 0을 기준으로 양수이면 비가 오는 것으로 판단, 음수면 비가 오지 않는 것으로 판단한다.\n",
        "\n",
        "`X`는 주어진 데이터이니, 우리는 원하는 값을 계산할 수 있도록 해 주는 `w`와 `b`의 값을 구하면 된다.\n",
        "\n",
        "일단 랜덤으로 값을 초기화해 놓고, 이후 경사하강법으로 좋은 값을 찾아간다."
      ],
      "metadata": {
        "id": "OdIzwgnYaYS8"
      }
    },
    {
      "cell_type": "code",
      "source": [
        "w = torch.randn(input_features, requires_grad=True)\n",
        "b = torch.randn(1, requires_grad=True)"
      ],
      "metadata": {
        "id": "fTg1SLgKaVss"
      },
      "execution_count": null,
      "outputs": []
    },
    {
      "cell_type": "markdown",
      "source": [
        "본격적으로 답을 찾기 전에, 랜덤으로 만든 값들이 얼마나 유용한지 테스트해보자.\n",
        "\n",
        "혹시라도 랜덤으로 만들었는데 이미 잘 맞춘다면 우리가 이 고생을 할 필요가 없다."
      ],
      "metadata": {
        "id": "V5cKP1q_ajL9"
      }
    },
    {
      "cell_type": "code",
      "source": [
        "cnt_total = 0\n",
        "cnt_correct = 0\n",
        "for x_i, y_i in zip(X_tensor, y_tensor):\n",
        "    with torch.no_grad():\n",
        "        score = torch.sum(x_i*w) + b\n",
        "    predict_flag = score > 0\n",
        "    answer_flag = y_i == 1\n",
        "\n",
        "    if predict_flag == answer_flag:\n",
        "        cnt_correct += 1\n",
        "    cnt_total += 1\n",
        "\n",
        "print(f'Accuracy: {cnt_correct/cnt_total}')"
      ],
      "metadata": {
        "colab": {
          "base_uri": "https://localhost:8080/"
        },
        "id": "Bop7grTraiX1",
        "outputId": "77037554-f513-4e98-b95c-95960dfa60d3"
      },
      "execution_count": null,
      "outputs": [
        {
          "output_type": "stream",
          "name": "stdout",
          "text": [
            "Accuracy: 0.5\n"
          ]
        }
      ]
    },
    {
      "cell_type": "markdown",
      "source": [
        "다음은 놀랍게도 실제 뉴럴네트워크의 학습 과정이다.\n",
        "```\n",
        "면접관: 당신의 장점은?\n",
        "나: 저는 머신러닝 전문가입니다.\n",
        "면접관: 9+10은?\n",
        "나: 3 입니다.\n",
        "면접관: 틀렸네. 전혀 달라. 답은 19일세.\n",
        "나: 16 입니다.\n",
        "면접관: 틀렸네. 답은 19일세.\n",
        "나: 18 입니다.\n",
        "면접관: 틀렸네. 답은 19일세.\n",
        "나: 19 입니다.\n",
        "면접관: 자넨 합격일세.\n",
        "```\n",
        "\n",
        "다만 아래와 같이 좀 더 정확하게 고칠 수 있다.\n",
        "\n",
        "```\n",
        "훈련교관: 현재 서울 곳곳의 습도는 이러하다. 1시간 후에 비가 오겠는가?\n",
        "신경망: 수식을 계산한 결과 8이 나왔습니다. 0보다 크니 비가 올 것입니다.\n",
        "훈련교관: 답은 비가 오지 않는다네.\n",
        "신경망: 명심하겠습니다.\n",
        "\n",
        "훈련교관: 현재 서울 곳곳의 습도는 이러하다. 1시간 후에 비가 오겠는가?\n",
        "신경망: 수식을 계산한 결과 3이 나왔습니다. 0보다 크니 비가 올 것입니다.\n",
        "훈련교관: 답은 비가 온다네.\n",
        "신경망: 명심하겠습니다.\n",
        "\n",
        "훈련교관: 현재 서울 곳곳의 습도는 이러하다. 1시간 후에 비가 오겠는가? (1. 학습 데이터 샘플링)\n",
        "신경망: 수식을 계산한 결과 -10이 나왔습니다. 0보다 작으니 비가 안 올 것입니다. (2. 추론)\n",
        "훈련교관: 답은 비가 오지 않는다네.\n",
        "신경망: 명심하겠습니다. (3. 손실함수에서 역전파된 그래디언트를 바탕으로 파라미터 조정)\n",
        "```\n",
        "위에서 이미 1단계와 2단계를 끝냈다.\n",
        "이제 위 코드에 약간 추가해 3단계를 수행하자.\n",
        "\n"
      ],
      "metadata": {
        "id": "f7YzEGenaln9"
      }
    },
    {
      "cell_type": "markdown",
      "source": [
        "손실함수를 계산하기 이전에 손실함수에 대해 짚고 넘어가는 것이 좋겠다. `torch.nn.BCEWithLogitsLoss()`가 우리가 사용할 손실함수다. 이 함수의 수학적 구조에 대해 논하는 것은 이론 시간의 역할이고, 실습 시간에는 이 손실함수가 우리가 원하는 성질을 만족시키는지만 간단히 체크하고 넘어가자.\n",
        "\n",
        "손실함수는 말 그대로의 의미를 지닌다. 손실이다. 크면 안 된다. 우리는 손실을 줄여야 한다. 좀 더 정확히는, 절대적인 크기보다는 상대적인 크기가 중요하다.\n",
        "\n",
        "신경망은 학습을 통해 나쁜 상태에서 좋은 상태로 나아간다. 나쁜 상태는 비가 오는지 오지 않는지 잘 예측하지 못하는 상태이고, 좋은 상태는 그 반대다. 현재 신경망이 처한 상태가 얼마나 좋은지, 또는 얼마나 나쁜지 알려주는 가이드가 손실함수다.\n",
        "\n",
        "우리에게 $s_1$과 $s_2$라는 두 가지의 상태가 있고, $s_1$이 더 바람직한 상태라고 하자. 손실함수를 $f$라고 하면, 다음을 만족해야 한다.\n",
        "\n",
        "$$f(s_1) < f(s_2)$$\n",
        "\n",
        "(상태란 단적으로 말하면 `w`와 `b`의 값을 말한다.)\n",
        "\n",
        "$$x_0 \\cdot w_0 + \\cdots + x_{19} \\cdot w_{19} + b$$\n",
        "\n",
        "A. 만약 신경망이 수식을 계산한 결과가 10이고, 이 때 비가 온다면 현재 신경망은 좋은 상태에 있는 것이다.\n",
        "\n",
        "B. 만약 신경망이 수식을 계산한 결과가 10이고, 이 때 비가 오지 않는다면 현재 신경망은 나쁜 상태에 있는 것이다.\n",
        "\n",
        "C. 만약 신경망이 수식을 계산한 결과가 -6이고, 이 때 비가 온다면 현재 신경망은 나쁜 상태에 있는 것이다.\n",
        "\n",
        "D. 만약 신경망이 수식을 계산한 결과가 -6이고, 이 때 비가 오지 않는다면 현재 신경망은 좋은 상태에 있는 것이다.\n"
      ],
      "metadata": {
        "id": "OnMkMjsoam0t"
      }
    },
    {
      "cell_type": "code",
      "source": [
        "criterion = torch.nn.BCEWithLogitsLoss()\n",
        "\n",
        "# 비가 오면 1, 안 오면 0\n",
        "\n",
        "# A\n",
        "a = criterion(torch.tensor([10.]), torch.tensor([1.]))\n",
        "print(a)\n",
        "\n",
        "# B\n",
        "b = criterion(torch.tensor([10.]), torch.tensor([0.]))\n",
        "print(b)\n",
        "\n",
        "# C\n",
        "c = criterion(torch.tensor([-6.]), torch.tensor([1.]))\n",
        "print(c)\n",
        "\n",
        "# D\n",
        "d = criterion(torch.tensor([-6.]), torch.tensor([0.]))\n",
        "print(d)\n",
        "\n",
        "assert a < b\n",
        "assert a < c\n",
        "assert d < b\n",
        "assert d < c"
      ],
      "metadata": {
        "colab": {
          "base_uri": "https://localhost:8080/"
        },
        "id": "L6rwtV_9aot-",
        "outputId": "31a8132f-01ac-4dec-e8d4-fb1473517863"
      },
      "execution_count": null,
      "outputs": [
        {
          "output_type": "stream",
          "name": "stdout",
          "text": [
            "tensor(4.5399e-05)\n",
            "tensor(10.0000)\n",
            "tensor(6.0025)\n",
            "tensor(0.0025)\n"
          ]
        }
      ]
    },
    {
      "cell_type": "markdown",
      "source": [
        "손실함수가 원하는 성질을 가진다는 것을 확인했으니 이제 신경망의 학습과정을 구현하자. 학습이 진행되며 손실함수가 점점 줄어들어야 정상이다."
      ],
      "metadata": {
        "id": "KMrzrp2harn8"
      }
    },
    {
      "cell_type": "code",
      "source": [
        "num_epoch = 30\n",
        "learning_rate = 0.001\n",
        "\n",
        "w.grad = torch.zeros_like(w) # Initialize gradient\n",
        "b.grad = torch.zeros_like(b) # Initialize gradient\n",
        "\n",
        "for epoch in range(num_epoch):\n",
        "    loss_sum = 0\n",
        "    for x_i, y_i in zip(X_tensor, y_tensor):\n",
        "        # Evaluation code is commented out because not needed\n",
        "        # predict_flag = (x_i*w).sum() + b > 0\n",
        "        # answer_flag = y_i == 1\n",
        "\n",
        "        w.grad.zero_() # Clear gradient\n",
        "        b.grad.zero_() # Clear gradient\n",
        "\n",
        "        score = torch.sum(x_i*w) + b\n",
        "        loss = criterion(score.squeeze(), y_i.squeeze())\n",
        "        loss.backward()\n",
        "        loss_sum += loss.item()\n",
        "\n",
        "        with torch.no_grad():\n",
        "            w -= learning_rate * w.grad\n",
        "            b -= learning_rate * b.grad\n",
        "\n",
        "    print(f'Epoch {epoch+1}/{num_epoch}, Loss: {loss_sum/num_samples}')"
      ],
      "metadata": {
        "colab": {
          "base_uri": "https://localhost:8080/"
        },
        "id": "B5CmUBREasXt",
        "outputId": "c3ad73d7-fdf0-43fc-8a5d-01a6834319df"
      },
      "execution_count": null,
      "outputs": [
        {
          "output_type": "stream",
          "name": "stdout",
          "text": [
            "Epoch 1/30, Loss: 4.904871256972015\n",
            "Epoch 2/30, Loss: 4.733532010374254\n",
            "Epoch 3/30, Loss: 4.565381427003377\n",
            "Epoch 4/30, Loss: 4.400244544450452\n",
            "Epoch 5/30, Loss: 4.23847697009829\n",
            "Epoch 6/30, Loss: 4.080988328397725\n",
            "Epoch 7/30, Loss: 3.9290605026229186\n",
            "Epoch 8/30, Loss: 3.783763695370713\n",
            "Epoch 9/30, Loss: 3.645372489368311\n",
            "Epoch 10/30, Loss: 3.513575239416379\n",
            "Epoch 11/30, Loss: 3.388095539474574\n",
            "Epoch 12/30, Loss: 3.2689815991086526\n",
            "Epoch 13/30, Loss: 3.156470092449137\n",
            "Epoch 14/30, Loss: 3.0506845838788714\n",
            "Epoch 15/30, Loss: 2.9515220900407466\n",
            "Epoch 16/30, Loss: 2.8587581500747374\n",
            "Epoch 17/30, Loss: 2.7720953474296484\n",
            "Epoch 18/30, Loss: 2.691178029329285\n",
            "Epoch 19/30, Loss: 2.615634354182938\n",
            "Epoch 20/30, Loss: 2.545087766886422\n",
            "Epoch 21/30, Loss: 2.4791797729866625\n",
            "Epoch 22/30, Loss: 2.4175916323029005\n",
            "Epoch 23/30, Loss: 2.360038094918024\n",
            "Epoch 24/30, Loss: 2.306229315376105\n",
            "Epoch 25/30, Loss: 2.2558540366254154\n",
            "Epoch 26/30, Loss: 2.2086051709122603\n",
            "Epoch 27/30, Loss: 2.164208346242803\n",
            "Epoch 28/30, Loss: 2.122418477045134\n",
            "Epoch 29/30, Loss: 2.0830093417971125\n",
            "Epoch 30/30, Loss: 2.0457714883152125\n"
          ]
        }
      ]
    },
    {
      "cell_type": "markdown",
      "source": [
        "학습이 어느정도 진행되었으면 정확도를 다시 확인해보자."
      ],
      "metadata": {
        "id": "EZkCmVN8at8k"
      }
    },
    {
      "cell_type": "code",
      "source": [
        "cnt_total = 0\n",
        "cnt_correct = 0\n",
        "for x_i, y_i in zip(X_tensor, y_tensor):\n",
        "    with torch.no_grad():\n",
        "        score = torch.sum(x_i*w) + b\n",
        "    predict_flag = score > 0\n",
        "    answer_flag = y_i == 1\n",
        "\n",
        "    if predict_flag == answer_flag:\n",
        "        cnt_correct += 1\n",
        "    cnt_total += 1\n",
        "\n",
        "print(f'Accuracy: {cnt_correct/cnt_total}')"
      ],
      "metadata": {
        "colab": {
          "base_uri": "https://localhost:8080/"
        },
        "id": "CcIFHEjoaup1",
        "outputId": "18bba52a-54b5-40c8-ae0a-906bdb73094f"
      },
      "execution_count": null,
      "outputs": [
        {
          "output_type": "stream",
          "name": "stdout",
          "text": [
            "Accuracy: 0.662\n"
          ]
        }
      ]
    },
    {
      "cell_type": "markdown",
      "source": [
        "아래는 같은 문제를 다층 퍼셉트론, `torch.nn.Module`, `torch.optim` 등을 통해 해결한 것이다. 위는 원리를 설명하기 위한 실습이고, 현업에서는 아래와 같은 코드를 작성하는 것이 좋다."
      ],
      "metadata": {
        "id": "hj2Y9bOOav-E"
      }
    },
    {
      "cell_type": "code",
      "source": [
        "class SimpleMLP(nn.Module):\n",
        "    def __init__(self, input_size, hidden_size, output_size):\n",
        "        super(SimpleMLP, self).__init__()\n",
        "        # Define layers\n",
        "        self.fc1 = nn.Linear(input_size, hidden_size)  # First fully connected layer\n",
        "        self.relu = nn.ReLU()                         # ReLU activation\n",
        "        self.fc2 = nn.Linear(hidden_size, output_size) # Second fully connected layer\n",
        "\n",
        "    def forward(self, x):\n",
        "        out = self.fc1(x)      # Input to first layer\n",
        "        out = self.relu(out)   # Apply ReLU\n",
        "        out = self.fc2(out)    # Output layer\n",
        "        return out\n",
        "\n",
        "\n",
        "# Create a dataset and data loader\n",
        "dataset = TensorDataset(X_tensor, y_tensor)\n",
        "batch_size = 32\n",
        "dataloader = DataLoader(dataset, batch_size=batch_size, shuffle=True)\n",
        "\n",
        "# Hyperparameters\n",
        "input_size = input_features\n",
        "hidden_size = 64\n",
        "output_size = 1  # Binary classification\n",
        "\n",
        "# Instantiate the model\n",
        "model = SimpleMLP(input_size, hidden_size, output_size)\n",
        "\n",
        "# Loss function and optimizer\n",
        "criterion = nn.BCEWithLogitsLoss()  # Combines a sigmoid layer and the BCELoss\n",
        "optimizer = optim.Adam(model.parameters(), lr=0.001)\n",
        "  # optimizer = gradient descent 해주는 것ptimizer = optim.Adam(model.parameters(), lr=0.001)\n",
        "\n",
        "# Training parameters\n",
        "num_epochs = 20\n",
        "\n",
        "# Training loop\n",
        "for epoch in range(num_epochs):\n",
        "    for batch_X, batch_y in dataloader:\n",
        "        # Forward pass\n",
        "        outputs = model(batch_X)\n",
        "        loss = criterion(outputs, batch_y)\n",
        "\n",
        "        # Backward pass and optimization\n",
        "        optimizer.zero_grad()  # Clear gradients\n",
        "        loss.backward()        # Compute gradients\n",
        "        optimizer.step()       # Update weights\n",
        "\n",
        "    # Print loss for every epoch\n",
        "    print(f'Epoch [{epoch+1}/{num_epochs}], Loss: {loss.item():.4f}')\n",
        "\n",
        "# Evaluation\n",
        "model.eval()\n",
        "\n",
        "with torch.no_grad():\n",
        "    outputs = model(X_tensor)\n",
        "    predictions = torch.sigmoid(outputs)  # Apply sigmoid to get probabilities\n",
        "    predicted_classes = (predictions >= 0.5).float()\n",
        "\n",
        "    # Calculate accuracy\n",
        "    accuracy = (predicted_classes == y_tensor).float().mean()\n",
        "    print(f'Accuracy: {accuracy * 100:.2f}%')\n"
      ],
      "metadata": {
        "colab": {
          "base_uri": "https://localhost:8080/"
        },
        "id": "1rIZCMpPawzk",
        "outputId": "ce2cfa65-2c0e-4516-bc7f-e99de204e84c"
      },
      "execution_count": null,
      "outputs": [
        {
          "output_type": "stream",
          "name": "stdout",
          "text": [
            "Epoch [1/20], Loss: 0.6837\n",
            "Epoch [2/20], Loss: 0.5524\n",
            "Epoch [3/20], Loss: 0.4512\n",
            "Epoch [4/20], Loss: 0.4259\n",
            "Epoch [5/20], Loss: 0.3803\n",
            "Epoch [6/20], Loss: 0.3100\n",
            "Epoch [7/20], Loss: 0.2270\n",
            "Epoch [8/20], Loss: 0.2369\n",
            "Epoch [9/20], Loss: 0.1811\n",
            "Epoch [10/20], Loss: 0.1870\n",
            "Epoch [11/20], Loss: 0.2093\n",
            "Epoch [12/20], Loss: 0.1770\n",
            "Epoch [13/20], Loss: 0.0238\n",
            "Epoch [14/20], Loss: 0.0941\n",
            "Epoch [15/20], Loss: 0.1312\n",
            "Epoch [16/20], Loss: 0.0992\n",
            "Epoch [17/20], Loss: 0.0853\n",
            "Epoch [18/20], Loss: 0.1405\n",
            "Epoch [19/20], Loss: 0.1293\n",
            "Epoch [20/20], Loss: 0.0262\n",
            "Accuracy: 99.90%\n"
          ]
        }
      ]
    },
    {
      "cell_type": "markdown",
      "source": [
        "TODO: input_size, hidden_size, learning_rate 등의 하이퍼파라미터를 바꿔 가며 최적의 모델을 찾아보세요."
      ],
      "metadata": {
        "id": "petXo8O7ayE0"
      }
    },
    {
      "cell_type": "code",
      "source": [
        "# write your code here\n",
        "class SimpleMLP(nn.Module):\n",
        "    def __init__(self, input_size, hidden_size, output_size):\n",
        "        super(SimpleMLP, self).__init__()\n",
        "        # Define layers\n",
        "        self.fc1 = nn.Linear(input_size, hidden_size)  # First fully connected layer\n",
        "        self.relu = nn.ReLU()                         # ReLU activation\n",
        "        self.fc2 = nn.Linear(hidden_size, output_size) # Second fully connected layer\n",
        "\n",
        "    def forward(self, x):\n",
        "        out = self.fc1(x)      # Input to first layer\n",
        "        out = self.relu(out)   # Apply ReLU\n",
        "        out = self.fc2(out)    # Output layer\n",
        "        return out\n",
        "\n",
        "    ### Create a dataset and data loader function\n",
        "    def create_dataset(self, num_samples, input_features=20, batch_size=32):\n",
        "        X = np.random.randn(num_samples, input_features).astype(np.float32)\n",
        "        y = (X.sum(axis=1) > 0).astype(np.float32)\n",
        "\n",
        "        # Convert to PyTorch tensors\n",
        "        X_tensor = torch.from_numpy(X)\n",
        "        y_tensor = torch.from_numpy(y).unsqueeze(1)  # Add dimension for compatibility\n",
        "\n",
        "        dataset = TensorDataset(X_tensor, y_tensor)\n",
        "        dataloader = DataLoader(dataset, batch_size=batch_size, shuffle=True)\n",
        "\n",
        "        return dataloader\n",
        "\n",
        "    ### Training model function\n",
        "    def training_model(self, dataloader, input_size, hidden_size=64, output_size=1, num_epochs=20, lr=0.001):\n",
        "        # Instantiate the model\n",
        "        model = SimpleMLP(input_size, hidden_size, output_size)\n",
        "\n",
        "        # Loss function and optimizer\n",
        "        criterion = nn.BCEWithLogitsLoss()  # Combines a sigmoid layer and the BCELoss\n",
        "        optimizer = optim.Adam(model.parameters(), lr=lr)\n",
        "\n",
        "        # Training loop\n",
        "        for epoch in range(num_epochs):\n",
        "            for batch_X, batch_y in dataloader:\n",
        "                # Forward pass\n",
        "                outputs = model(batch_X)\n",
        "                loss = criterion(outputs, batch_y)\n",
        "\n",
        "                # Backward pass and optimization\n",
        "                optimizer.zero_grad()  # Clear gradients\n",
        "                loss.backward()        # Compute gradients\n",
        "                optimizer.step()       # Update weights\n",
        "\n",
        "        return model\n",
        "\n",
        "    ### Evaluation function\n",
        "    def evaluation_model(self, model, num_samples=100, input_features=20, batch_size=32):\n",
        "        # Generate new dataset for evaluation\n",
        "        dataloader = self.create_dataset(num_samples, input_features, batch_size)\n",
        "\n",
        "        model.eval()\n",
        "        total_accuracy = 0\n",
        "        num_batches = 0\n",
        "\n",
        "        with torch.no_grad():\n",
        "            for batch_X, batch_y in dataloader:\n",
        "                outputs = model(batch_X)\n",
        "                predictions = torch.sigmoid(outputs)  # Apply sigmoid to get probabilities\n",
        "                predicted_classes = (predictions >= 0.5).float()\n",
        "\n",
        "                # Calculate accuracy for each batch\n",
        "                accuracy = (predicted_classes == batch_y).float().mean()\n",
        "                total_accuracy += accuracy\n",
        "                num_batches += 1\n",
        "                print(f'Batch Accuracy: {accuracy * 100:.2f}%')\n",
        "\n",
        "        return total_accuracy / num_batches if num_batches > 0 else 0\n"
      ],
      "metadata": {
        "id": "lqFtUGoTn5fI"
      },
      "execution_count": null,
      "outputs": []
    },
    {
      "cell_type": "code",
      "source": [
        "### Test Code\n",
        "import torch\n",
        "import torch.nn as nn\n",
        "import torch.optim as optim\n",
        "from torch.utils.data import DataLoader, TensorDataset\n",
        "import numpy as np\n",
        "\n",
        "# 클래스 초기화 및 데이터셋 생성\n",
        "mlp = SimpleMLP(input_size=20, hidden_size=64, output_size=1)\n",
        "\n",
        "# 학습용 데이터셋 생성\n",
        "train_loader = mlp.create_dataset(num_samples=500, input_features=20, batch_size=32)\n",
        "\n",
        "# 모델 학습\n",
        "model = mlp.training_model(train_loader, input_size=20)\n",
        "\n",
        "# 새로운 데이터셋으로 모델 평가\n",
        "mlp.evaluation_model(model, num_samples=100)"
      ],
      "metadata": {
        "colab": {
          "base_uri": "https://localhost:8080/"
        },
        "id": "8aUONH0pmiY8",
        "outputId": "eccee418-3791-4a41-ddd9-28c5ec3b706e"
      },
      "execution_count": null,
      "outputs": [
        {
          "output_type": "stream",
          "name": "stdout",
          "text": [
            "Batch Accuracy: 96.88%\n",
            "Batch Accuracy: 96.88%\n",
            "Batch Accuracy: 96.88%\n",
            "Batch Accuracy: 100.00%\n"
          ]
        },
        {
          "output_type": "execute_result",
          "data": {
            "text/plain": [
              "tensor(0.9766)"
            ]
          },
          "metadata": {},
          "execution_count": 98
        }
      ]
    },
    {
      "cell_type": "code",
      "source": [
        "def hyperparameter_search():\n",
        "    # 하이퍼파라미터 탐색 공간 정의\n",
        "    input_size_list = [10, 20, 30]  # 입력 크기\n",
        "    hidden_size_list = [32, 64, 128] # 은닉층 크기\n",
        "    learning_rate_list = [0.01, 0.001, 0.0001] # 학습률\n",
        "    num_epochs = 10  # 에폭 수\n",
        "    num_samples = 500 # 샘플 수\n",
        "\n",
        "    # 최적의 결과를 추적\n",
        "    best_accuracy = 0\n",
        "    best_params = {}\n",
        "\n",
        "    for input_size in input_size_list:\n",
        "        for hidden_size in hidden_size_list:\n",
        "            for lr in learning_rate_list:\n",
        "                # 데이터셋 생성\n",
        "                mlp = SimpleMLP(input_size, hidden_size, 1)\n",
        "                dataloader = mlp.create_dataset(num_samples, input_size, batch_size=32)\n",
        "\n",
        "                # 모델 학습\n",
        "                model = mlp.training_model(dataloader, input_size, hidden_size, 1, num_epochs=num_epochs, lr=lr)\n",
        "\n",
        "                # 모델 평가\n",
        "                accuracy = mlp.evaluation_model(model, num_samples=100, input_features=input_size)\n",
        "\n",
        "                # 성능 비교 및 최적의 하이퍼파라미터 저장\n",
        "                if accuracy > best_accuracy:\n",
        "                    best_accuracy = accuracy\n",
        "                    best_params = {\n",
        "                        \"input_size\": input_size,\n",
        "                        \"hidden_size\": hidden_size,\n",
        "                        \"learning_rate\": lr\n",
        "                    }\n",
        "\n",
        "                print(f'input_size: {input_size}, hidden_size: {hidden_size}, lr: {lr}, accuracy: {accuracy * 100:.2f}%')\n",
        "\n",
        "    # 최종 결과 출력\n",
        "    print(f'\\nBest Accuracy: {best_accuracy * 100:.2f}%')\n",
        "    print(f'Best Parameters: {best_params}')\n",
        "\n",
        "# 하이퍼파라미터 탐색 실행\n",
        "hyperparameter_search()\n"
      ],
      "metadata": {
        "colab": {
          "base_uri": "https://localhost:8080/"
        },
        "id": "zXLlJbxEqMP-",
        "outputId": "6d64eb1c-ff13-4941-badf-2af8a49137ed"
      },
      "execution_count": null,
      "outputs": [
        {
          "output_type": "stream",
          "name": "stdout",
          "text": [
            "Batch Accuracy: 100.00%\n",
            "Batch Accuracy: 100.00%\n",
            "Batch Accuracy: 96.88%\n",
            "Batch Accuracy: 75.00%\n",
            "input_size: 10, hidden_size: 32, lr: 0.01, accuracy: 92.97%\n",
            "Batch Accuracy: 87.50%\n",
            "Batch Accuracy: 96.88%\n",
            "Batch Accuracy: 87.50%\n",
            "Batch Accuracy: 75.00%\n",
            "input_size: 10, hidden_size: 32, lr: 0.001, accuracy: 86.72%\n",
            "Batch Accuracy: 37.50%\n",
            "Batch Accuracy: 31.25%\n",
            "Batch Accuracy: 50.00%\n",
            "Batch Accuracy: 25.00%\n",
            "input_size: 10, hidden_size: 32, lr: 0.0001, accuracy: 35.94%\n",
            "Batch Accuracy: 93.75%\n",
            "Batch Accuracy: 96.88%\n",
            "Batch Accuracy: 96.88%\n",
            "Batch Accuracy: 75.00%\n",
            "input_size: 10, hidden_size: 64, lr: 0.01, accuracy: 90.62%\n",
            "Batch Accuracy: 100.00%\n",
            "Batch Accuracy: 90.62%\n",
            "Batch Accuracy: 93.75%\n",
            "Batch Accuracy: 100.00%\n",
            "input_size: 10, hidden_size: 64, lr: 0.001, accuracy: 96.09%\n",
            "Batch Accuracy: 81.25%\n",
            "Batch Accuracy: 71.88%\n",
            "Batch Accuracy: 81.25%\n",
            "Batch Accuracy: 50.00%\n",
            "input_size: 10, hidden_size: 64, lr: 0.0001, accuracy: 71.09%\n",
            "Batch Accuracy: 100.00%\n",
            "Batch Accuracy: 93.75%\n",
            "Batch Accuracy: 96.88%\n",
            "Batch Accuracy: 100.00%\n",
            "input_size: 10, hidden_size: 128, lr: 0.01, accuracy: 97.66%\n",
            "Batch Accuracy: 100.00%\n",
            "Batch Accuracy: 100.00%\n",
            "Batch Accuracy: 96.88%\n",
            "Batch Accuracy: 100.00%\n",
            "input_size: 10, hidden_size: 128, lr: 0.001, accuracy: 99.22%\n",
            "Batch Accuracy: 84.38%\n",
            "Batch Accuracy: 78.12%\n",
            "Batch Accuracy: 78.12%\n",
            "Batch Accuracy: 75.00%\n",
            "input_size: 10, hidden_size: 128, lr: 0.0001, accuracy: 78.91%\n",
            "Batch Accuracy: 93.75%\n",
            "Batch Accuracy: 96.88%\n",
            "Batch Accuracy: 96.88%\n",
            "Batch Accuracy: 100.00%\n",
            "input_size: 20, hidden_size: 32, lr: 0.01, accuracy: 96.88%\n",
            "Batch Accuracy: 93.75%\n",
            "Batch Accuracy: 93.75%\n",
            "Batch Accuracy: 100.00%\n",
            "Batch Accuracy: 100.00%\n",
            "input_size: 20, hidden_size: 32, lr: 0.001, accuracy: 96.88%\n",
            "Batch Accuracy: 50.00%\n",
            "Batch Accuracy: 56.25%\n",
            "Batch Accuracy: 65.62%\n",
            "Batch Accuracy: 75.00%\n",
            "input_size: 20, hidden_size: 32, lr: 0.0001, accuracy: 61.72%\n",
            "Batch Accuracy: 96.88%\n",
            "Batch Accuracy: 100.00%\n",
            "Batch Accuracy: 100.00%\n",
            "Batch Accuracy: 100.00%\n",
            "input_size: 20, hidden_size: 64, lr: 0.01, accuracy: 99.22%\n",
            "Batch Accuracy: 90.62%\n",
            "Batch Accuracy: 93.75%\n",
            "Batch Accuracy: 96.88%\n",
            "Batch Accuracy: 100.00%\n",
            "input_size: 20, hidden_size: 64, lr: 0.001, accuracy: 95.31%\n",
            "Batch Accuracy: 71.88%\n",
            "Batch Accuracy: 75.00%\n",
            "Batch Accuracy: 71.88%\n",
            "Batch Accuracy: 75.00%\n",
            "input_size: 20, hidden_size: 64, lr: 0.0001, accuracy: 73.44%\n",
            "Batch Accuracy: 96.88%\n",
            "Batch Accuracy: 96.88%\n",
            "Batch Accuracy: 100.00%\n",
            "Batch Accuracy: 100.00%\n",
            "input_size: 20, hidden_size: 128, lr: 0.01, accuracy: 98.44%\n",
            "Batch Accuracy: 100.00%\n",
            "Batch Accuracy: 93.75%\n",
            "Batch Accuracy: 90.62%\n",
            "Batch Accuracy: 100.00%\n",
            "input_size: 20, hidden_size: 128, lr: 0.001, accuracy: 96.09%\n",
            "Batch Accuracy: 62.50%\n",
            "Batch Accuracy: 56.25%\n",
            "Batch Accuracy: 75.00%\n",
            "Batch Accuracy: 75.00%\n",
            "input_size: 20, hidden_size: 128, lr: 0.0001, accuracy: 67.19%\n",
            "Batch Accuracy: 90.62%\n",
            "Batch Accuracy: 100.00%\n",
            "Batch Accuracy: 100.00%\n",
            "Batch Accuracy: 100.00%\n",
            "input_size: 30, hidden_size: 32, lr: 0.01, accuracy: 97.66%\n",
            "Batch Accuracy: 87.50%\n",
            "Batch Accuracy: 100.00%\n",
            "Batch Accuracy: 93.75%\n",
            "Batch Accuracy: 100.00%\n",
            "input_size: 30, hidden_size: 32, lr: 0.001, accuracy: 95.31%\n",
            "Batch Accuracy: 56.25%\n",
            "Batch Accuracy: 53.12%\n",
            "Batch Accuracy: 68.75%\n",
            "Batch Accuracy: 25.00%\n",
            "input_size: 30, hidden_size: 32, lr: 0.0001, accuracy: 50.78%\n",
            "Batch Accuracy: 93.75%\n",
            "Batch Accuracy: 96.88%\n",
            "Batch Accuracy: 100.00%\n",
            "Batch Accuracy: 100.00%\n",
            "input_size: 30, hidden_size: 64, lr: 0.01, accuracy: 97.66%\n",
            "Batch Accuracy: 93.75%\n",
            "Batch Accuracy: 96.88%\n",
            "Batch Accuracy: 84.38%\n",
            "Batch Accuracy: 100.00%\n",
            "input_size: 30, hidden_size: 64, lr: 0.001, accuracy: 93.75%\n",
            "Batch Accuracy: 53.12%\n",
            "Batch Accuracy: 62.50%\n",
            "Batch Accuracy: 56.25%\n",
            "Batch Accuracy: 50.00%\n",
            "input_size: 30, hidden_size: 64, lr: 0.0001, accuracy: 55.47%\n",
            "Batch Accuracy: 93.75%\n",
            "Batch Accuracy: 96.88%\n",
            "Batch Accuracy: 96.88%\n",
            "Batch Accuracy: 100.00%\n",
            "input_size: 30, hidden_size: 128, lr: 0.01, accuracy: 96.88%\n",
            "Batch Accuracy: 100.00%\n",
            "Batch Accuracy: 96.88%\n",
            "Batch Accuracy: 96.88%\n",
            "Batch Accuracy: 100.00%\n",
            "input_size: 30, hidden_size: 128, lr: 0.001, accuracy: 98.44%\n",
            "Batch Accuracy: 68.75%\n",
            "Batch Accuracy: 81.25%\n",
            "Batch Accuracy: 78.12%\n",
            "Batch Accuracy: 75.00%\n",
            "input_size: 30, hidden_size: 128, lr: 0.0001, accuracy: 75.78%\n",
            "\n",
            "Best Accuracy: 99.22%\n",
            "Best Parameters: {'input_size': 10, 'hidden_size': 128, 'learning_rate': 0.001}\n"
          ]
        }
      ]
    },
    {
      "cell_type": "code",
      "source": [
        "### Solution\n",
        "import torch\n",
        "import torch.nn as nn\n",
        "import torch.optim as optim\n",
        "from torch.utils.data import DataLoader, TensorDataset\n",
        "import torch.nn.functional as F\n",
        "import numpy as np\n",
        "\n",
        "class SimpleMLP(nn.Module):\n",
        "    def __init__(self, input_size, hidden_size):\n",
        "        super(SimpleMLP, self).__init__()\n",
        "        # Define layers\n",
        "        self.input_size = input_size\n",
        "        self.fc1 = nn.Linear(input_size, hidden_size)  # First fully connected layer\n",
        "        self.relu = nn.ReLU()             # ReLU activation\n",
        "        self.fc2 = nn.Linear(hidden_size, 1) # Second fully connected layer\n",
        "\n",
        "    def forward(self, x):\n",
        "        out = self.fc1(x)      # Input to first layer\n",
        "        out = self.relu(out)   # Apply ReLU\n",
        "        out = self.fc2(out)    # Output layer\n",
        "        return out\n",
        "\n",
        "    def create_dataset(self, num_samples = 1000, batch_size = 32):\n",
        "        # Features: random numbers\n",
        "        input_features = self.input_size\n",
        "        X = np.random.randn(num_samples, input_features).astype(np.float32)\n",
        "\n",
        "        # Labels: sum of features > 0 => class 1, else class 0\n",
        "        # Please convince yourself this is the real data, while actuall not the case\n",
        "        y = (X.sum(axis=1) > 0).astype(np.float32)\n",
        "\n",
        "        # Convert to PyTorch tensors\n",
        "        X_tensor = torch.from_numpy(X)\n",
        "        y_tensor = torch.from_numpy(y).unsqueeze(1)  # Add dimension for compatibility\n",
        "\n",
        "        dataset = TensorDataset(X_tensor, y_tensor)\n",
        "        dataloader = DataLoader(dataset, batch_size=batch_size, shuffle=True)\n",
        "\n",
        "        return dataloader\n",
        "\n",
        "    def train(self, train_data, num_epochs = 20, learning_rate = 0.001, criterion = nn.BCEWithLogitsLoss):\n",
        "        criterion = criterion()  # Combines a sigmoid layer and the BCELoss\n",
        "        optimizer = optim.Adam(self.parameters(), lr = learning_rate)\n",
        "\n",
        "        # Training loop\n",
        "        for epoch in range(num_epochs):\n",
        "            for batch_X, batch_y in train_data:\n",
        "                # Forward pass\n",
        "                outputs = self(batch_X)\n",
        "                loss = criterion(outputs, batch_y)\n",
        "\n",
        "                # Backward pass and optimization\n",
        "                optimizer.zero_grad()  # Clear gradients\n",
        "                loss.backward()        # Compute gradients\n",
        "                optimizer.step()       # Update weights\n",
        "\n",
        "            # Print loss for every epoch\n",
        "            # print(f'Epoch [{epoch+1}/{num_epochs}], Loss: {loss.item():.4f}')\n",
        "\n",
        "        return model\n",
        "\n",
        "    def evaluate(self, test_data):\n",
        "        # self.eval()\n",
        "        with torch.no_grad():\n",
        "            accuracy_history = []\n",
        "            for batch_X, batch_y in test_data:\n",
        "                outputs = self(batch_X)\n",
        "                predictions = torch.sigmoid(outputs)\n",
        "                predicted_classes = (predictions >= 0.5).float()\n",
        "                accuracy = (predicted_classes == batch_y).float().mean()\n",
        "                accuracy_history.append(accuracy)\n",
        "            accuracy = sum(accuracy_history) / len(accuracy_history)\n",
        "            print(f'Accuracy: {accuracy * 100:.2f}%')\n",
        "            return accuracy\n",
        "\n",
        "model = SimpleMLP(20, 64)\n",
        "train_dataset = model.create_dataset()\n",
        "test_dataset = model.create_dataset()\n",
        "print(train_dataset)\n",
        "model.train(train_dataset)\n",
        "model.evaluate(test_dataset)"
      ],
      "metadata": {
        "id": "wK1trDdhnenZ",
        "colab": {
          "base_uri": "https://localhost:8080/"
        },
        "outputId": "0132f1d8-4a98-49be-dbad-68689864131a"
      },
      "execution_count": null,
      "outputs": [
        {
          "output_type": "stream",
          "name": "stdout",
          "text": [
            "<torch.utils.data.dataloader.DataLoader object at 0x7d6ee2a32b60>\n",
            "Accuracy: 97.56%\n"
          ]
        },
        {
          "output_type": "execute_result",
          "data": {
            "text/plain": [
              "tensor(0.9756)"
            ]
          },
          "metadata": {},
          "execution_count": 101
        }
      ]
    },
    {
      "cell_type": "code",
      "source": [
        "def hidden_size_candidates():\n",
        "    return [2**n for n in range(7)]\n",
        "\n",
        "def learning_rate_candidates():\n",
        "    return [0.001]\n",
        "\n",
        "def train_and_eval(hidden_size, learning_rate):\n",
        "    model = SimpleMLP(20, hidden_size)\n",
        "    train_dataset = model.create_dataset(1000)\n",
        "    test_dataset = model.create_dataset(100)\n",
        "\n",
        "    model.train(train_dataset, learning_rate = learning_rate)\n",
        "    evaluation_result = model.evaluate(test_dataset)\n",
        "\n",
        "    return evaluation_result\n",
        "\n",
        "def find_hyperparameter():\n",
        "    hidden_sizes = hidden_size_candidates()\n",
        "    learning_rates = learning_rate_candidates()\n",
        "    result_history = []\n",
        "    for hidden_size in hidden_sizes:\n",
        "        for learning_rate in learning_rates:\n",
        "            eval_result = train_and_eval(hidden_size, learning_rate)\n",
        "            result_history.append((hidden_size, learning_rate, eval_result))\n",
        "            print(hidden_size, learning_rate, eval_result)\n",
        "    return max(result_history, key = lambda x:x[2])\n",
        "\n",
        "find_hyperparameter()\n"
      ],
      "metadata": {
        "colab": {
          "base_uri": "https://localhost:8080/"
        },
        "id": "3gJJ2vs20c9T",
        "outputId": "2f3394f6-c3d5-49a5-abae-2b648731630f"
      },
      "execution_count": null,
      "outputs": [
        {
          "output_type": "stream",
          "name": "stdout",
          "text": [
            "Accuracy: 96.88%\n",
            "1 0.001 tensor(0.9688)\n",
            "Accuracy: 89.84%\n",
            "2 0.001 tensor(0.8984)\n",
            "Accuracy: 96.09%\n",
            "4 0.001 tensor(0.9609)\n",
            "Accuracy: 97.66%\n",
            "8 0.001 tensor(0.9766)\n",
            "Accuracy: 97.66%\n",
            "16 0.001 tensor(0.9766)\n",
            "Accuracy: 100.00%\n",
            "32 0.001 tensor(1.)\n",
            "Accuracy: 93.75%\n",
            "64 0.001 tensor(0.9375)\n"
          ]
        },
        {
          "output_type": "execute_result",
          "data": {
            "text/plain": [
              "(32, 0.001, tensor(1.))"
            ]
          },
          "metadata": {},
          "execution_count": 102
        }
      ]
    },
    {
      "cell_type": "markdown",
      "source": [
        "딥러닝으로 아래 내용을 해볼 것\n",
        "1. 선형회귀 y = 4 + 3x 구현\n",
        "- 맨 처음에는 torch.tensor 이용해서 아예 바닥부터 구현\n",
        "- 그 이후에 nn.Linear 사용하여 구현\n",
        "- 그 이후에 dataloader 사용하여 구현\n",
        "- batching 구현해보기\n",
        "- optimizer 사용해보기\n",
        "\n",
        "2. $ y = w_1 x_1 + w_2 x_2 + w_3 x_3 + b $ 구현"
      ],
      "metadata": {
        "id": "RhQyYVUB02sJ"
      }
    },
    {
      "cell_type": "code",
      "source": [
        "import torch\n",
        "import torch.nn as nn\n",
        "import torch.optim as optim\n",
        "from torch.utils.data import DataLoader, TensorDataset\n",
        "import torch.nn.functional as F\n",
        "import numpy as np\n",
        "import matplotlib.pyplot as plt\n",
        "import random\n",
        "\n",
        "def generate_synthetic_data(n_samples = 1000, x_amplitude = 10, noise_amplitude = 1):\n",
        "    X = torch.randn(n_samples, 1) * x_amplitude\n",
        "    noise = torch.randn(n_samples, 1) * noise_amplitude\n",
        "\n",
        "    y = 4 + 3 * X + noise\n",
        "    return X, y\n",
        "\n",
        "X, y = generate_synthetic_data()\n",
        "print(X.shape, y.shape)"
      ],
      "metadata": {
        "colab": {
          "base_uri": "https://localhost:8080/"
        },
        "id": "3WZMqk5l0gnD",
        "outputId": "18734d89-89b0-4f8c-f735-e441b98b1ff9"
      },
      "execution_count": null,
      "outputs": [
        {
          "output_type": "stream",
          "name": "stdout",
          "text": [
            "torch.Size([1000, 1]) torch.Size([1000, 1])\n"
          ]
        }
      ]
    },
    {
      "cell_type": "code",
      "source": [
        "def plot_data(x, y):\n",
        "    plt.scatter(x, y, alpha = 0.5)\n",
        "    plt.show()\n",
        "\n",
        "def plot_loss_history(loss_history):\n",
        "    plt.plot(range(1, len(loss_history) + 1), loss_history)\n",
        "    plt.show()\n",
        "\n",
        "def plot_fitted_line(x, y, y_pred):\n",
        "    plt.scatter(x, y, alpha = 0.3)\n",
        "    sorted_line = [(x, y_p) for x, y_p in zip(x, y_pred)]\n",
        "    sorted_line = sorted(sorted_line, key = lambda x:x[0])\n",
        "    sorted_x = [e[0] for e in sorted_line]\n",
        "    sorted_y_pred = [e[1] for e in sorted_line]\n",
        "    plt.plot(sorted_x, sorted_y_pred, color = 'red')\n",
        "\n",
        "    plt.show()\n",
        "\n",
        "X, y = generate_synthetic_data(noise_amplitude = 10)\n",
        "plot_data(X, y)\n",
        "\n",
        "loss_history = [random.gauss(10, 10) for _ in range(100)]\n",
        "plot_loss_history(loss_history)\n",
        "\n",
        "plot_fitted_line(X, y, [4+3*x for x in X])"
      ],
      "metadata": {
        "colab": {
          "base_uri": "https://localhost:8080/",
          "height": 1000
        },
        "id": "8Ea0BIk70xCz",
        "outputId": "9b5536b1-6343-4597-e06c-519e4ca81b8f"
      },
      "execution_count": null,
      "outputs": [
        {
          "output_type": "display_data",
          "data": {
            "text/plain": [
              "<Figure size 640x480 with 1 Axes>"
            ],
            "image/png": "[encoded data removed]"
          },
          "metadata": {}
        },
        {
          "output_type": "display_data",
          "data": {
            "text/plain": [
              "<Figure size 640x480 with 1 Axes>"
            ],
            "image/png": "[encoded data removed]"
          },
          "metadata": {}
        },
        {
          "output_type": "display_data",
          "data": {
            "text/plain": [
              "<Figure size 640x480 with 1 Axes>"
            ],
            "image/png": "[encoded data removed]"
          },
          "metadata": {}
        }
      ]
    },
    {
      "cell_type": "code",
      "source": [
        "### torch.tensor 이용해서 구현\n",
        "class LinearRegressionModel(nn.Module):\n",
        "    def __init__(self):\n",
        "        super(LinearRegressionModel, self).__init__()\n",
        "        self.w = torch.randn(1, 1, requires_grad = True)\n",
        "        self.b = torch.randn(1, requires_grad = True)\n",
        "        self.loss = nn.MSELoss()\n",
        "\n",
        "    def forward(self, X):\n",
        "        return X @ self.w + self.b\n",
        "\n",
        "    def train(self, x, y, learning_rate = 0.001, epochs = 20, print_log = True, plot = True):\n",
        "        loss_history = []\n",
        "        for epoch in range(epochs):\n",
        "            y_pred = self(x)\n",
        "\n",
        "            loss = self.loss(y_pred, y)\n",
        "            loss_history.append(loss.item())\n",
        "\n",
        "            loss.backward()\n",
        "\n",
        "            with torch.no_grad():\n",
        "                self.w -= learning_rate * self.w.grad\n",
        "                self.b -= learning_rate * self.b.grad\n",
        "\n",
        "            self.w.grad.zero_()\n",
        "            self.b.grad.zero_()\n",
        "\n",
        "            if print_log:\n",
        "                print(f'[Linear Regression with torch.tensor] Epoch {epoch+1}/{epochs} Loss: {loss.item()}')\n",
        "        if plot:\n",
        "            plot_loss_history(loss_history)\n",
        "\n",
        "        return loss_history\n",
        "\n",
        "    def evaluate(self, x, y):\n",
        "        with torch.no_grad():\n",
        "            y_pred = model(x)\n",
        "            return self.loss(y_pred, y).item()\n",
        "\n",
        "X, y = generate_synthetic_data(noise_amplitude = 1)\n",
        "test_X, test_y = generate_synthetic_data(noise_amplitude = 1)\n",
        "\n",
        "model = LinearRegressionModel()\n",
        "\n",
        "test_loss_history = []\n",
        "train_loss_history = []\n",
        "\n",
        "for epoch in range(200):\n",
        "    train_loss = model.train(X, y, epochs = 1, print_log = False, plot = False)\n",
        "    train_loss_history.extend(train_loss)\n",
        "    test_loss_history.append(model.evaluate(test_X, test_y))\n",
        "\n",
        "plot_loss_history(train_loss_history)\n",
        "plot_loss_history(test_loss_history)\n",
        "\n",
        "print(model.w.item(), model.b.item())"
      ],
      "metadata": {
        "colab": {
          "base_uri": "https://localhost:8080/",
          "height": 861
        },
        "id": "xJtD0bWT2Slx",
        "outputId": "21f8dd1e-e990-4432-90eb-ce54be4dde9a"
      },
      "execution_count": null,
      "outputs": [
        {
          "output_type": "display_data",
          "data": {
            "text/plain": [
              "<Figure size 640x480 with 1 Axes>"
            ],
            "image/png": "[encoded data removed]"
          },
          "metadata": {}
        },
        {
          "output_type": "display_data",
          "data": {
            "text/plain": [
              "<Figure size 640x480 with 1 Axes>"
            ],
            "image/png": "[encoded data removed]"
          },
          "metadata": {}
        },
        {
          "output_type": "stream",
          "name": "stdout",
          "text": [
            "3.014803171157837 1.0024091005325317\n"
          ]
        }
      ]
    },
    {
      "cell_type": "code",
      "source": [
        "### nn.Linear 사용하여 구현\n",
        "class LinearRegressionModel(nn.Module):\n",
        "    def __init__(self):\n",
        "        super(LinearRegressionModel, self).__init__()\n",
        "        # self.w = torch.randn(1, 1, requires_grad = True)\n",
        "        # self.b = torch.randn(1, requires_grad = True)\n",
        "        # 위 내용을 nn.Linear()에 포함되어있음\n",
        "        self.layer = nn.Linear(1, 1)\n",
        "        self.loss = nn.MSELoss()\n",
        "\n",
        "    def forward(self, X):\n",
        "        return self.layer(X)\n",
        "\n",
        "    def train(self, x, y, learning_rate = 0.001, epochs = 20, print_log = True, plot = True):\n",
        "        # loss_function = nn.MSELoss()\n",
        "        loss_history = []\n",
        "        for epoch in range(epochs):\n",
        "            y_pred = self(x)\n",
        "            # print(y_pred, y)\n",
        "            loss = self.loss(y_pred, y)\n",
        "            loss_history.append(loss.item())\n",
        "\n",
        "            # compute the gradient of the loss\n",
        "            loss.backward()\n",
        "\n",
        "            with torch.no_grad():\n",
        "                # self.w -= learning_rate * self.w.grad\n",
        "                # self.b -= learning_rate * self.b.grad\n",
        "                self.layer.weight -= learning_rate * self.layer.weight.grad\n",
        "                self.layer.bias -= learning_rate * self.layer.bias.grad\n",
        "\n",
        "            # self.w.grad.zero_()\n",
        "            # self.b.grad.zero_()\n",
        "            self.layer.weight.grad.zero_()\n",
        "            self.layer.bias.grad.zero_()\n",
        "\n",
        "            if print_log:\n",
        "                print(f'[Linear Regression with torch.tensor] Epoch {epoch+1}/{epochs} Loss: {loss.item()}')\n",
        "        if plot:\n",
        "            plot_loss_history(loss_history)\n",
        "        return loss_history\n",
        "\n",
        "    def evaluate(self, x, y):\n",
        "        with torch.no_grad():\n",
        "            y_pred = model(x)\n",
        "            return self.loss(y_pred, y).item()\n",
        "\n",
        "X, y = generate_synthetic_data(noise_amplitude = 1)\n",
        "test_X, test_y = generate_synthetic_data(noise_amplitude = 1)\n",
        "\n",
        "model = LinearRegressionModel()\n",
        "test_loss_history = []\n",
        "train_loss_history = []\n",
        "\n",
        "for epoch in range(200):\n",
        "    train_loss = model.train(X, y, epochs = 1, print_log = False, plot = False)\n",
        "    train_loss_history.extend(train_loss)\n",
        "    test_loss_history.append(model.evaluate(test_X, test_y))\n",
        "\n",
        "plot_loss_history(train_loss_history)\n",
        "plot_loss_history(test_loss_history)\n",
        "\n",
        "print(model.layer)"
      ],
      "metadata": {
        "colab": {
          "base_uri": "https://localhost:8080/",
          "height": 863
        },
        "id": "n7ZKvPtX7Z8A",
        "outputId": "7e6a35f9-20d4-4d45-bf70-33d619f69ba6"
      },
      "execution_count": null,
      "outputs": [
        {
          "output_type": "display_data",
          "data": {
            "text/plain": [
              "<Figure size 640x480 with 1 Axes>"
            ],
            "image/png": "[encoded data removed]"
          },
          "metadata": {}
        },
        {
          "output_type": "display_data",
          "data": {
            "text/plain": [
              "<Figure size 640x480 with 1 Axes>"
            ],
            "image/png": "[encoded data removed]"
          },
          "metadata": {}
        },
        {
          "output_type": "stream",
          "name": "stdout",
          "text": [
            "Linear(in_features=1, out_features=1, bias=True)\n"
          ]
        }
      ]
    },
    {
      "cell_type": "code",
      "source": [
        "### optimizer 사용하여 구현\n",
        "import torch.optim as optim\n",
        "\n",
        "class LinearRegressionModel(nn.Module):\n",
        "    def __init__(self):\n",
        "        super(LinearRegressionModel, self).__init__()\n",
        "        self.layer = nn.Linear(1, 1)\n",
        "        self.loss = nn.MSELoss()\n",
        "        self.optimizer = optim.SGD\n",
        "\n",
        "    def forward(self, X):\n",
        "        return self.layer(X)\n",
        "\n",
        "    def train(self, x, y, learning_rate = 0.001, epochs = 20, print_log = True, plot = True):\n",
        "\n",
        "        optimizer = self.optimizer(self.parameters(), lr = learning_rate)\n",
        "\n",
        "        loss_history = []\n",
        "\n",
        "        for epoch in range(epochs):\n",
        "            y_pred = self(x)\n",
        "\n",
        "            loss = self.loss(y_pred, y)\n",
        "            loss_history.append(loss.item())\n",
        "\n",
        "            loss.backward()\n",
        "\n",
        "            # with torch.no_grad():\n",
        "            #     self.layer.weight -= learning_rate * self.layer.weight.grad\n",
        "            #     self.layer.bias -= learning_rate * self.layer.bias.grad\n",
        "            # 위 내용 optimizer에 있음\n",
        "            optimizer.step()\n",
        "\n",
        "            # self.layer.weight.grad.zero_()\n",
        "            # self.layer.bias.grad.zero_()\n",
        "            optimizer.zero_grad()\n",
        "\n",
        "            if print_log:\n",
        "                print(f'[Linear Regression with torch.tensor] Epoch {epoch+1}/{epochs} Loss: {loss.item()}')\n",
        "        if plot:\n",
        "            plot_loss_history(loss_history)\n",
        "        return loss_history\n",
        "\n",
        "    def evaluate(self, x, y):\n",
        "        with torch.no_grad():\n",
        "            y_pred = model(x)\n",
        "            return self.loss(y_pred, y).item()\n",
        "\n",
        "X, y = generate_synthetic_data(noise_amplitude = 1)\n",
        "test_X, test_y = generate_synthetic_data(noise_amplitude = 1)\n",
        "\n",
        "model = LinearRegressionModel()\n",
        "test_loss_history = []\n",
        "train_loss_history = []\n",
        "\n",
        "for epoch in range(200):\n",
        "    train_loss = model.train(X, y, epochs = 1, print_log = False, plot = False)\n",
        "    train_loss_history.extend(train_loss)\n",
        "    test_loss_history.append(model.evaluate(test_X, test_y))\n",
        "\n",
        "plot_loss_history(train_loss_history)\n",
        "plot_loss_history(test_loss_history)\n",
        "\n",
        "print(model.layer)\n"
      ],
      "metadata": {
        "colab": {
          "base_uri": "https://localhost:8080/",
          "height": 861
        },
        "id": "4zX3b8hpXF-D",
        "outputId": "b12ea5cb-4562-44bc-94fb-522bc4bb3104"
      },
      "execution_count": null,
      "outputs": [
        {
          "output_type": "display_data",
          "data": {
            "text/plain": [
              "<Figure size 640x480 with 1 Axes>"
            ],
            "image/png": "[encoded data removed]"
          },
          "metadata": {}
        },
        {
          "output_type": "display_data",
          "data": {
            "text/plain": [
              "<Figure size 640x480 with 1 Axes>"
            ],
            "image/png": "[encoded data removed]"
          },
          "metadata": {}
        },
        {
          "output_type": "stream",
          "name": "stdout",
          "text": [
            "Linear(in_features=1, out_features=1, bias=True)\n"
          ]
        }
      ]
    },
    {
      "cell_type": "code",
      "source": [
        "### dataloader로 구현(자동으로 알아서 batching해줌)\n",
        "import torch\n",
        "import torch.nn as nn\n",
        "import torch.optim as optim\n",
        "from torch.utils.data import DataLoader, TensorDataset\n",
        "import torch.nn.functional as F\n",
        "import numpy as np\n",
        "import matplotlib.pyplot as plt\n",
        "import random\n",
        "\n",
        "def generate_synthetic_data(n_samples = 1000, x_amplitude = 10, noise_amplitude = 1, batch_size = 32):\n",
        "    X = torch.randn(n_samples, 1) * x_amplitude\n",
        "    noise = torch.randn(n_samples, 1) * noise_amplitude\n",
        "\n",
        "    y = 4 + 3 * X + noise\n",
        "\n",
        "    dataset = TensorDataset(X, y) # python zip()와 동일\n",
        "    dataloader = DataLoader(dataset, batch_size = batch_size, shuffle = True)\n",
        "\n",
        "    return dataloader\n",
        "\n",
        "class LinearRegressionModel(nn.Module):\n",
        "    def __init__(self):\n",
        "        super(LinearRegressionModel, self).__init__()\n",
        "        self.layer = nn.Linear(1, 1)\n",
        "        self.loss = nn.MSELoss()\n",
        "        self.optimizer = optim.SGD\n",
        "\n",
        "    def forward(self, X):\n",
        "        return self.layer(X)\n",
        "\n",
        "    def train(self, data, learning_rate = 0.001, epochs = 20, print_log = True, plot = True):\n",
        "\n",
        "        loss_history = []\n",
        "        optimizer = self.optimizer(self.parameters(), lr = learning_rate)\n",
        "\n",
        "        for epoch in range(epochs):\n",
        "            for x, y in data:\n",
        "                y_pred = self(x)\n",
        "\n",
        "                loss = self.loss(y_pred, y)\n",
        "                loss_history.append(loss.item())\n",
        "\n",
        "                # compute the gradient of the loss\n",
        "                loss.backward()\n",
        "                optimizer.step()\n",
        "                optimizer.zero_grad()\n",
        "\n",
        "            if print_log:\n",
        "                print(f'[Linear Regression with torch.tensor] Epoch {epoch+1}/{epochs} Loss: {loss.item()}')\n",
        "        if plot:\n",
        "            plot_loss_history(loss_history)\n",
        "        return loss_history\n",
        "\n",
        "    def evaluate(self, data):\n",
        "        with torch.no_grad():\n",
        "            loss_list = []\n",
        "\n",
        "            for x, y in data:\n",
        "                y_pred = model(x)\n",
        "                loss = self.loss(y_pred, y).item()\n",
        "                loss_list.append(loss)\n",
        "\n",
        "            return sum(loss_list) / len(loss_list)\n",
        "\n",
        "train_data = generate_synthetic_data(noise_amplitude = 1)\n",
        "test_data = generate_synthetic_data(noise_amplitude = 1)\n",
        "\n",
        "model = LinearRegressionModel()\n",
        "test_loss_history = []\n",
        "train_loss_history = []\n",
        "\n",
        "for epoch in range(200):\n",
        "    train_loss = model.train(train_data, epochs = 1, print_log = False, plot = False)\n",
        "    train_loss_history.extend(train_loss)\n",
        "    test_loss_history.append(model.evaluate(test_data))\n",
        "\n",
        "plot_loss_history(train_loss_history)\n",
        "plot_loss_history(test_loss_history)\n",
        "\n",
        "print(model.layer)"
      ],
      "metadata": {
        "colab": {
          "base_uri": "https://localhost:8080/",
          "height": 861
        },
        "id": "6Y06Js6yYESD",
        "outputId": "c5db54a7-2a89-4f7c-8b2a-1f145a0da6e5"
      },
      "execution_count": null,
      "outputs": [
        {
          "output_type": "display_data",
          "data": {
            "text/plain": [
              "<Figure size 640x480 with 1 Axes>"
            ],
            "image/png": "[encoded data removed]"
          },
          "metadata": {}
        },
        {
          "output_type": "display_data",
          "data": {
            "text/plain": [
              "<Figure size 640x480 with 1 Axes>"
            ],
            "image/png": "[encoded data removed]"
          },
          "metadata": {}
        },
        {
          "output_type": "stream",
          "name": "stdout",
          "text": [
            "Linear(in_features=1, out_features=1, bias=True)\n"
          ]
        }
      ]
    },
    {
      "cell_type": "markdown",
      "source": [
        "1. $x+y<1$인지 판별하는\n",
        "  - 데이터셋을 만들고\n",
        "  - 뉴럴넷을 자유롭게 여러 형태로 만든 후\n",
        "  - 학습/평가하고\n",
        "  - 최종적으로 가장 좋은 뉴럴넷의 성능을 확인해보세요.\n",
        "2. $x^2+y^2<1$인지 판별하는\n",
        "  - 데이터셋을 만들고\n",
        "  - 뉴럴넷을 자유롭게 여러 형태로 만든 후\n",
        "  - 학습/평가하고\n",
        "  - 최종적으로 가장 좋은 뉴럴넷의 성능을 확인해보세요."
      ],
      "metadata": {
        "id": "KPXgbElshyNP"
      }
    },
    {
      "cell_type": "code",
      "source": [
        "import torch\n",
        "from torch import nn\n",
        "from torch.utils.data import DataLoader, TensorDataset\n",
        "\n",
        "# 데이터 생성\n",
        "def generate_synthetic_data(n_samples = 1000, batch_size = 32):\n",
        "    X = torch.randn(n_samples, 2)\n",
        "    target = (torch.sum(X, dim=1) > 1).float()\n",
        "\n",
        "    dataset = TensorDataset(X, target)\n",
        "    dataloader = DataLoader(dataset, batch_size = batch_size, shuffle = True)\n",
        "\n",
        "    return dataloader\n",
        "\n",
        "class BinaryClassificationModel(nn.Module):\n",
        "  def __init__(self, input_size=2, hidden_size=10, output_size=1):\n",
        "    super(BinaryClassificationModel, self).__init__()\n",
        "\n",
        "    # 첫 번째 은닉층 (입력 크기에서 은닉 크기로 변환)\n",
        "    self.layer01 = nn.Linear(input_size, hidden_size)\n",
        "\n",
        "    # 두 번째 출력층 (은닉 크기에서 출력 크기로 변환)\n",
        "    self.layer02 = nn.Linear(hidden_size, output_size)\n",
        "\n",
        "    # 활성화 함수 ReLU (비선형성 추가)\n",
        "    self.relu = nn.ReLU()\n",
        "\n",
        "    # 이진 분류를 위한 손실 함수 (로그-스케일의 확률을 사용)\n",
        "    self.loss = nn.BCEWithLogitsLoss()\n",
        "\n",
        "  def forward(self, X):\n",
        "    hidden_output = self.layer01(X)\n",
        "    out = self.relu(hidden_output)\n",
        "    output = self.layer02(out)\n",
        "\n",
        "    return output\n",
        "\n",
        "  def train_model(self, dataloader, learning_rate=0.001, epochs=50):\n",
        "    # 옵티마이저 정의\n",
        "    optimizer = torch.optim.Adam(self.parameters(), lr=learning_rate)\n",
        "\n",
        "    # 학습 과정\n",
        "    for epoch in range(epochs):\n",
        "      total_loss = 0\n",
        "      for inputs, targets in dataloader:\n",
        "          optimizer.zero_grad()\n",
        "          outputs = self.forward(inputs)\n",
        "          loss = self.loss(outputs.squeeze(), targets)\n",
        "          total_loss += loss.item()\n",
        "          loss.backward()\n",
        "          optimizer.step()\n",
        "\n",
        "      print(f'Epoch [{epoch+1}/{epochs}], Loss: {total_loss/len(dataloader):.4f}')  # 손실 출력\n",
        "\n",
        "    return self  # 학습이 끝난 후 모델 반환\n",
        "\n",
        "\n",
        "  def evaluate_model(self, test_dataloader):\n",
        "    self.eval()\n",
        "    total_correct = 0\n",
        "    total_samples = 0\n",
        "\n",
        "    with torch.no_grad():\n",
        "      for test_inputs, test_targets in test_dataloader:\n",
        "        outputs = self.forward(test_inputs)\n",
        "        predicted = (torch.sigmoid(outputs.squeeze()) > 0.5).float()\n",
        "        total_correct += (predicted == test_targets).sum().item()  # 정확한 예측 수\n",
        "        total_samples += test_targets.size(0)  # 전체 샘플 수\n",
        "\n",
        "    accuracy = total_correct / total_samples  # 정확도 계산\n",
        "\n",
        "    return accuracy\n",
        "\n",
        "# 데이터 생성\n",
        "dataloader = generate_synthetic_data(n_samples=1000)  # 훈련 데이터\n",
        "test_dataloader = generate_synthetic_data(n_samples=200)  # 테스트 데이터\n",
        "\n",
        "# 모델 인스턴스화 및 학습\n",
        "model = BinaryClassificationModel()\n",
        "model.train_model(dataloader, learning_rate=0.001, epochs=100)\n",
        "\n",
        "# 평가\n",
        "accuracy = model.evaluate_model(test_dataloader)\n",
        "print(f'Accuracy: {accuracy:.4f}')\n"
      ],
      "metadata": {
        "colab": {
          "base_uri": "https://localhost:8080/"
        },
        "id": "Dx1pRsuEGJ1O",
        "outputId": "e089c3ec-c878-4ebb-8401-48d1206ec57b"
      },
      "execution_count": null,
      "outputs": [
        {
          "output_type": "stream",
          "name": "stdout",
          "text": [
            "Epoch [1/100], Loss: 0.6599\n",
            "Epoch [2/100], Loss: 0.6220\n",
            "Epoch [3/100], Loss: 0.5879\n",
            "Epoch [4/100], Loss: 0.5527\n",
            "Epoch [5/100], Loss: 0.5150\n",
            "Epoch [6/100], Loss: 0.4807\n",
            "Epoch [7/100], Loss: 0.4445\n",
            "Epoch [8/100], Loss: 0.4087\n",
            "Epoch [9/100], Loss: 0.3722\n",
            "Epoch [10/100], Loss: 0.3463\n",
            "Epoch [11/100], Loss: 0.3126\n",
            "Epoch [12/100], Loss: 0.2901\n",
            "Epoch [13/100], Loss: 0.2690\n",
            "Epoch [14/100], Loss: 0.2530\n",
            "Epoch [15/100], Loss: 0.2333\n",
            "Epoch [16/100], Loss: 0.2203\n",
            "Epoch [17/100], Loss: 0.2069\n",
            "Epoch [18/100], Loss: 0.1960\n",
            "Epoch [19/100], Loss: 0.1850\n",
            "Epoch [20/100], Loss: 0.1765\n",
            "Epoch [21/100], Loss: 0.1683\n",
            "Epoch [22/100], Loss: 0.1635\n",
            "Epoch [23/100], Loss: 0.1530\n",
            "Epoch [24/100], Loss: 0.1475\n",
            "Epoch [25/100], Loss: 0.1385\n",
            "Epoch [26/100], Loss: 0.1369\n",
            "Epoch [27/100], Loss: 0.1313\n",
            "Epoch [28/100], Loss: 0.1248\n",
            "Epoch [29/100], Loss: 0.1252\n",
            "Epoch [30/100], Loss: 0.1213\n",
            "Epoch [31/100], Loss: 0.1124\n",
            "Epoch [32/100], Loss: 0.1142\n",
            "Epoch [33/100], Loss: 0.1092\n",
            "Epoch [34/100], Loss: 0.1026\n",
            "Epoch [35/100], Loss: 0.1016\n",
            "Epoch [36/100], Loss: 0.0985\n",
            "Epoch [37/100], Loss: 0.0959\n",
            "Epoch [38/100], Loss: 0.0958\n",
            "Epoch [39/100], Loss: 0.0945\n",
            "Epoch [40/100], Loss: 0.0885\n",
            "Epoch [41/100], Loss: 0.0874\n",
            "Epoch [42/100], Loss: 0.0852\n",
            "Epoch [43/100], Loss: 0.0840\n",
            "Epoch [44/100], Loss: 0.0855\n",
            "Epoch [45/100], Loss: 0.0813\n",
            "Epoch [46/100], Loss: 0.0806\n",
            "Epoch [47/100], Loss: 0.0803\n",
            "Epoch [48/100], Loss: 0.0764\n",
            "Epoch [49/100], Loss: 0.0749\n",
            "Epoch [50/100], Loss: 0.0750\n",
            "Epoch [51/100], Loss: 0.0724\n",
            "Epoch [52/100], Loss: 0.0716\n",
            "Epoch [53/100], Loss: 0.0699\n",
            "Epoch [54/100], Loss: 0.0688\n",
            "Epoch [55/100], Loss: 0.0681\n",
            "Epoch [56/100], Loss: 0.0678\n",
            "Epoch [57/100], Loss: 0.0660\n",
            "Epoch [58/100], Loss: 0.0648\n",
            "Epoch [59/100], Loss: 0.0683\n",
            "Epoch [60/100], Loss: 0.0649\n",
            "Epoch [61/100], Loss: 0.0630\n",
            "Epoch [62/100], Loss: 0.0610\n",
            "Epoch [63/100], Loss: 0.0632\n",
            "Epoch [64/100], Loss: 0.0593\n",
            "Epoch [65/100], Loss: 0.0590\n",
            "Epoch [66/100], Loss: 0.0594\n",
            "Epoch [67/100], Loss: 0.0581\n",
            "Epoch [68/100], Loss: 0.0574\n",
            "Epoch [69/100], Loss: 0.0564\n",
            "Epoch [70/100], Loss: 0.0572\n",
            "Epoch [71/100], Loss: 0.0564\n",
            "Epoch [72/100], Loss: 0.0544\n",
            "Epoch [73/100], Loss: 0.0529\n",
            "Epoch [74/100], Loss: 0.0539\n",
            "Epoch [75/100], Loss: 0.0534\n",
            "Epoch [76/100], Loss: 0.0510\n",
            "Epoch [77/100], Loss: 0.0515\n",
            "Epoch [78/100], Loss: 0.0500\n",
            "Epoch [79/100], Loss: 0.0509\n",
            "Epoch [80/100], Loss: 0.0502\n",
            "Epoch [81/100], Loss: 0.0491\n",
            "Epoch [82/100], Loss: 0.0487\n",
            "Epoch [83/100], Loss: 0.0502\n",
            "Epoch [84/100], Loss: 0.0500\n",
            "Epoch [85/100], Loss: 0.0482\n",
            "Epoch [86/100], Loss: 0.0469\n",
            "Epoch [87/100], Loss: 0.0476\n",
            "Epoch [88/100], Loss: 0.0459\n",
            "Epoch [89/100], Loss: 0.0457\n",
            "Epoch [90/100], Loss: 0.0450\n",
            "Epoch [91/100], Loss: 0.0443\n",
            "Epoch [92/100], Loss: 0.0441\n",
            "Epoch [93/100], Loss: 0.0445\n",
            "Epoch [94/100], Loss: 0.0435\n",
            "Epoch [95/100], Loss: 0.0442\n",
            "Epoch [96/100], Loss: 0.0431\n",
            "Epoch [97/100], Loss: 0.0430\n",
            "Epoch [98/100], Loss: 0.0425\n",
            "Epoch [99/100], Loss: 0.0419\n",
            "Epoch [100/100], Loss: 0.0457\n",
            "Accuracy: 0.9850\n"
          ]
        }
      ]
    },
    {
      "cell_type": "code",
      "source": [
        "import torch\n",
        "from torch import nn\n",
        "from torch.utils.data import DataLoader, TensorDataset\n",
        "\n",
        "# 데이터 생성\n",
        "def generate_synthetic_data(n_samples = 1000, batch_size = 32):\n",
        "    X = torch.randn(n_samples, 2)\n",
        "    target = (torch.sum(X**2, dim=1) > 1).float()\n",
        "\n",
        "    dataset = TensorDataset(X, target)\n",
        "    dataloader = DataLoader(dataset, batch_size = batch_size, shuffle = True)\n",
        "\n",
        "    return dataloader\n",
        "\n",
        "class BinaryClassificationModel(nn.Module):\n",
        "  def __init__(self, input_size=2, hidden_size=10, output_size=1):\n",
        "    super(BinaryClassificationModel, self).__init__()\n",
        "\n",
        "    # 첫 번째 은닉층 (입력 크기에서 은닉 크기로 변환)\n",
        "    self.layer01 = nn.Linear(input_size, hidden_size)\n",
        "\n",
        "    # 두 번째 출력층 (은닉 크기에서 출력 크기로 변환)\n",
        "    self.layer02 = nn.Linear(hidden_size, output_size)\n",
        "\n",
        "    # 활성화 함수 ReLU (비선형성 추가)\n",
        "    self.relu = nn.ReLU()\n",
        "\n",
        "    # 이진 분류를 위한 손실 함수 (로그-스케일의 확률을 사용)\n",
        "    self.loss = nn.BCEWithLogitsLoss()\n",
        "\n",
        "  def forward(self, X):\n",
        "    hidden_output = self.layer01(X)\n",
        "    out = self.relu(hidden_output)\n",
        "    output = self.layer02(out)\n",
        "\n",
        "    return output\n",
        "\n",
        "  def train_model(self, dataloader, learning_rate=0.001, epochs=50):\n",
        "    # 옵티마이저 정의\n",
        "    optimizer = torch.optim.Adam(self.parameters(), lr=learning_rate)\n",
        "\n",
        "    # 학습 과정\n",
        "    for epoch in range(epochs):\n",
        "      total_loss = 0\n",
        "      for inputs, targets in dataloader:\n",
        "          optimizer.zero_grad()\n",
        "          outputs = self.forward(inputs)\n",
        "          loss = self.loss(outputs.squeeze(), targets)\n",
        "          total_loss += loss.item()\n",
        "          loss.backward()\n",
        "          optimizer.step()\n",
        "\n",
        "      print(f'Epoch [{epoch+1}/{epochs}], Loss: {total_loss/len(dataloader):.4f}')  # 손실 출력\n",
        "\n",
        "    return self  # 학습이 끝난 후 모델 반환\n",
        "\n",
        "\n",
        "  def evaluate_model(self, test_dataloader):\n",
        "    self.eval()\n",
        "    total_correct = 0\n",
        "    total_samples = 0\n",
        "\n",
        "    with torch.no_grad():\n",
        "      for test_inputs, test_targets in test_dataloader:\n",
        "        outputs = self.forward(test_inputs)\n",
        "        predicted = (torch.sigmoid(outputs.squeeze()) > 0.5).float()\n",
        "        total_correct += (predicted == test_targets).sum().item()  # 정확한 예측 수\n",
        "        total_samples += test_targets.size(0)  # 전체 샘플 수\n",
        "\n",
        "    accuracy = total_correct / total_samples  # 정확도 계산\n",
        "\n",
        "    return accuracy\n",
        "\n",
        "# 데이터 생성\n",
        "dataloader = generate_synthetic_data(n_samples=1000)  # 훈련 데이터\n",
        "test_dataloader = generate_synthetic_data(n_samples=200)  # 테스트 데이터\n",
        "\n",
        "# 모델 인스턴스화 및 학습\n",
        "model = BinaryClassificationModel()\n",
        "model.train_model(dataloader, learning_rate=0.001, epochs=100)\n",
        "\n",
        "# 평가\n",
        "accuracy = model.evaluate_model(test_dataloader)\n",
        "print(f'Accuracy: {accuracy:.4f}')\n"
      ],
      "metadata": {
        "colab": {
          "base_uri": "https://localhost:8080/"
        },
        "id": "UaHHmuAKLvCM",
        "outputId": "4bb213a4-32c2-43de-9b28-3227db2412c1"
      },
      "execution_count": null,
      "outputs": [
        {
          "output_type": "stream",
          "name": "stdout",
          "text": [
            "Epoch [1/100], Loss: 0.6571\n",
            "Epoch [2/100], Loss: 0.6399\n",
            "Epoch [3/100], Loss: 0.6311\n",
            "Epoch [4/100], Loss: 0.6183\n",
            "Epoch [5/100], Loss: 0.6111\n",
            "Epoch [6/100], Loss: 0.5998\n",
            "Epoch [7/100], Loss: 0.5918\n",
            "Epoch [8/100], Loss: 0.5721\n",
            "Epoch [9/100], Loss: 0.5629\n",
            "Epoch [10/100], Loss: 0.5529\n",
            "Epoch [11/100], Loss: 0.5375\n",
            "Epoch [12/100], Loss: 0.5302\n",
            "Epoch [13/100], Loss: 0.5214\n",
            "Epoch [14/100], Loss: 0.5111\n",
            "Epoch [15/100], Loss: 0.4964\n",
            "Epoch [16/100], Loss: 0.4863\n",
            "Epoch [17/100], Loss: 0.4754\n",
            "Epoch [18/100], Loss: 0.4644\n",
            "Epoch [19/100], Loss: 0.4555\n",
            "Epoch [20/100], Loss: 0.4442\n",
            "Epoch [21/100], Loss: 0.4331\n",
            "Epoch [22/100], Loss: 0.4232\n",
            "Epoch [23/100], Loss: 0.4148\n",
            "Epoch [24/100], Loss: 0.4074\n",
            "Epoch [25/100], Loss: 0.3955\n",
            "Epoch [26/100], Loss: 0.3898\n",
            "Epoch [27/100], Loss: 0.3764\n",
            "Epoch [28/100], Loss: 0.3719\n",
            "Epoch [29/100], Loss: 0.3630\n",
            "Epoch [30/100], Loss: 0.3550\n",
            "Epoch [31/100], Loss: 0.3471\n",
            "Epoch [32/100], Loss: 0.3392\n",
            "Epoch [33/100], Loss: 0.3279\n",
            "Epoch [34/100], Loss: 0.3247\n",
            "Epoch [35/100], Loss: 0.3179\n",
            "Epoch [36/100], Loss: 0.3120\n",
            "Epoch [37/100], Loss: 0.3058\n",
            "Epoch [38/100], Loss: 0.2978\n",
            "Epoch [39/100], Loss: 0.2908\n",
            "Epoch [40/100], Loss: 0.2837\n",
            "Epoch [41/100], Loss: 0.2849\n",
            "Epoch [42/100], Loss: 0.2797\n",
            "Epoch [43/100], Loss: 0.2693\n",
            "Epoch [44/100], Loss: 0.2677\n",
            "Epoch [45/100], Loss: 0.2616\n",
            "Epoch [46/100], Loss: 0.2602\n",
            "Epoch [47/100], Loss: 0.2528\n",
            "Epoch [48/100], Loss: 0.2508\n",
            "Epoch [49/100], Loss: 0.2445\n",
            "Epoch [50/100], Loss: 0.2400\n",
            "Epoch [51/100], Loss: 0.2366\n",
            "Epoch [52/100], Loss: 0.2350\n",
            "Epoch [53/100], Loss: 0.2282\n",
            "Epoch [54/100], Loss: 0.2273\n",
            "Epoch [55/100], Loss: 0.2221\n",
            "Epoch [56/100], Loss: 0.2189\n",
            "Epoch [57/100], Loss: 0.2176\n",
            "Epoch [58/100], Loss: 0.2133\n",
            "Epoch [59/100], Loss: 0.2099\n",
            "Epoch [60/100], Loss: 0.2086\n",
            "Epoch [61/100], Loss: 0.2055\n",
            "Epoch [62/100], Loss: 0.2040\n",
            "Epoch [63/100], Loss: 0.2019\n",
            "Epoch [64/100], Loss: 0.2003\n",
            "Epoch [65/100], Loss: 0.1943\n",
            "Epoch [66/100], Loss: 0.1915\n",
            "Epoch [67/100], Loss: 0.1925\n",
            "Epoch [68/100], Loss: 0.1882\n",
            "Epoch [69/100], Loss: 0.1881\n",
            "Epoch [70/100], Loss: 0.1864\n",
            "Epoch [71/100], Loss: 0.1832\n",
            "Epoch [72/100], Loss: 0.1807\n",
            "Epoch [73/100], Loss: 0.1769\n",
            "Epoch [74/100], Loss: 0.1768\n",
            "Epoch [75/100], Loss: 0.1749\n",
            "Epoch [76/100], Loss: 0.1736\n",
            "Epoch [77/100], Loss: 0.1691\n",
            "Epoch [78/100], Loss: 0.1673\n",
            "Epoch [79/100], Loss: 0.1700\n",
            "Epoch [80/100], Loss: 0.1664\n",
            "Epoch [81/100], Loss: 0.1673\n",
            "Epoch [82/100], Loss: 0.1629\n",
            "Epoch [83/100], Loss: 0.1600\n",
            "Epoch [84/100], Loss: 0.1605\n",
            "Epoch [85/100], Loss: 0.1576\n",
            "Epoch [86/100], Loss: 0.1557\n",
            "Epoch [87/100], Loss: 0.1576\n",
            "Epoch [88/100], Loss: 0.1529\n",
            "Epoch [89/100], Loss: 0.1552\n",
            "Epoch [90/100], Loss: 0.1503\n",
            "Epoch [91/100], Loss: 0.1499\n",
            "Epoch [92/100], Loss: 0.1499\n",
            "Epoch [93/100], Loss: 0.1481\n",
            "Epoch [94/100], Loss: 0.1460\n",
            "Epoch [95/100], Loss: 0.1436\n",
            "Epoch [96/100], Loss: 0.1443\n",
            "Epoch [97/100], Loss: 0.1416\n",
            "Epoch [98/100], Loss: 0.1426\n",
            "Epoch [99/100], Loss: 0.1414\n",
            "Epoch [100/100], Loss: 0.1390\n",
            "Accuracy: 0.9800\n"
          ]
        }
      ]
    },
    {
      "cell_type": "code",
      "source": [],
      "metadata": {
        "id": "FBmA4_K_QRF7"
      },
      "execution_count": null,
      "outputs": []
    }
  ]
}